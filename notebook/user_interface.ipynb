{
 "cells": [
  {
   "cell_type": "markdown",
   "id": "c41000a0",
   "metadata": {},
   "source": [
    "# Second assignment of Research Track II"
   ]
  },
  {
   "cell_type": "markdown",
   "id": "e307ce46",
   "metadata": {},
   "source": [
    "## Jupyter notebook of the node user_interface"
   ]
  },
  {
   "cell_type": "markdown",
   "id": "48a6acd8",
   "metadata": {},
   "source": [
    "With this implementation you will be able control the behavior of the robot within the Gazebo environment. In addition, you will have much more functionalities to control the simulation thanks to the presence of widgets and the Matplotlib library. "
   ]
  },
  {
   "cell_type": "markdown",
   "id": "c2bedb6e",
   "metadata": {},
   "source": [
    "In particular the new functionalities, implemented thanks to these tools, are now:\n",
    "- the ability to start/stop the robot, that is regulated with two buttons;\n",
    "- the ability of changing the velocities, both linear and angular, using two sliders;\n",
    "- the ability of directly teleoperate the movements of the robot in each direction (plus the stop), with 5 buttons."
   ]
  },
  {
   "cell_type": "markdown",
   "id": "8ec64d29",
   "metadata": {},
   "source": [
    "Moreover, you have some information, concerning the simulation, that are graphically displayed, including:\n",
    "- a line plot that displays cmd_vel vs actual velocity (for both linear and angular velocities);\n",
    "- a bar plot that allows to see the number of reached and canceled target positions during the execution of the simulation;\n",
    "- a hist plot that shows the time required to reach each target position;\n",
    "- an xy graph that shows the robot's position and orientation during the execution of the simulation."
   ]
  },
  {
   "cell_type": "markdown",
   "id": "c6ebeba9",
   "metadata": {},
   "source": [
    "## How to run the code"
   ]
  },
  {
   "cell_type": "markdown",
   "id": "531974cf",
   "metadata": {},
   "source": [
    "After cloning the repository in a ROS workspace, you'll need two different terminals."
   ]
  },
  {
   "cell_type": "markdown",
   "id": "13a449da",
   "metadata": {},
   "source": [
    "In the first terminals you need to type the following instructions:\n",
    "- in your ROS workspace you need to build the package that you have just cloned using the command \n",
    "\n",
    "   `catkin_make`\n",
    "   \n",
    "   \n",
    "- then, you need to go inside the package that you have cloned and starts the simulation by typing\n",
    "\n",
    "   `roslaunch rt2_assignment1 notebook.launch`"
   ]
  },
  {
   "cell_type": "markdown",
   "id": "e077a94d",
   "metadata": {},
   "source": [
    "In the second terminal you need to start the Jupyter notebook by typing\n",
    "\n",
    "`jupyter notebook --allow-root --ip 0.0.0.0`\n",
    "\n",
    "\n",
    "Then open the file **user_interface.ipynb** and run all the cells (the ones that you need) to be able to directly interact with the Gazebo simulation environment.\n",
    "\n",
    "\n",
    "Advice: if you have not already done so, I recommend that you activate the nbextention *execute time*, to make sure that a cell has actually been run. "
   ]
  },
  {
   "cell_type": "markdown",
   "id": "f7ec195d",
   "metadata": {},
   "source": [
    "## Headers and initialization of the node"
   ]
  },
  {
   "cell_type": "markdown",
   "id": "552f19b3",
   "metadata": {},
   "source": [
    "This notebook, as it happens for the user_interface node, communicates with the other three nodes that are the:\n",
    "- go_to_point; \n",
    "- position_service;\n",
    "- state_machine."
   ]
  },
  {
   "cell_type": "markdown",
   "id": "0b971970",
   "metadata": {},
   "source": [
    "Here are listed the headers that are needed for our purpose:"
   ]
  },
  {
   "cell_type": "code",
   "execution_count": 1,
   "id": "fe3e4455",
   "metadata": {
    "ExecuteTime": {
     "end_time": "2023-02-01T11:42:07.603886Z",
     "start_time": "2023-02-01T11:42:05.590576Z"
    }
   },
   "outputs": [],
   "source": [
    "import rospy\n",
    "import time\n",
    "import math\n",
    "from rt2_assignment1.srv import Command\n",
    "import actionlib\n",
    "import actionlib.msg\n",
    "import rt2_assignment1.msg\n",
    "from rt2_assignment1.msg import TargetActionResult\n",
    "from std_msgs.msg import Int32\n",
    "\n",
    "import matplotlib.pyplot as plt\n",
    "import numpy as np\n",
    "import jupyros as jr\n",
    "import ipywidgets as widgets\n",
    "from geometry_msgs.msg import Twist\n",
    "from nav_msgs.msg import Odometry\n",
    "from tf import transformations\n",
    "from matplotlib import animation, rc\n",
    "from matplotlib.animation import FuncAnimation\n",
    "from ipywidgets import Button, Layout, ButtonStyle, GridBox, VBox, HBox, FloatSlider\n",
    "from IPython.display import display\n",
    "%matplotlib widget"
   ]
  },
  {
   "cell_type": "markdown",
   "id": "37dbfe1c",
   "metadata": {},
   "source": [
    "Now we initialize the node and implement the action client in order to start and stop the behavior of the robot, without waiting the end of the task:"
   ]
  },
  {
   "cell_type": "code",
   "execution_count": 2,
   "id": "b065b426",
   "metadata": {
    "ExecuteTime": {
     "end_time": "2023-02-01T11:42:09.971647Z",
     "start_time": "2023-02-01T11:42:09.564816Z"
    }
   },
   "outputs": [
    {
     "data": {
      "text/plain": [
       "True"
      ]
     },
     "execution_count": 2,
     "metadata": {},
     "output_type": "execute_result"
    }
   ],
   "source": [
    "# initialization of the node\n",
    "rospy.init_node('user_interface')\n",
    "ui_client = rospy.ServiceProxy('/user_interface', Command)\n",
    "    \n",
    "# action client to cancel the goal \n",
    "act_c = actionlib.SimpleActionClient(\"go_to_point\", rt2_assignment1.msg.TargetAction)\n",
    "act_c.wait_for_server()"
   ]
  },
  {
   "cell_type": "markdown",
   "id": "e2c3b808",
   "metadata": {},
   "source": [
    "## Global variables and functions"
   ]
  },
  {
   "cell_type": "markdown",
   "id": "4cb52c5b",
   "metadata": {},
   "source": [
    "Then the global variable used within the notebook are all initialized here and, moreover, here we can find the callback to the /odom topic, in a way that we can know the real position of the robot in any time, and as a consequence also the real velocity, the callback to the /cmd_vel topic, to know the velocity given to the robot, and the target callback, that advertise when the robot reaches its goal position."
   ]
  },
  {
   "cell_type": "code",
   "execution_count": 3,
   "id": "14ca4708",
   "metadata": {
    "ExecuteTime": {
     "end_time": "2023-02-01T11:42:12.103530Z",
     "start_time": "2023-02-01T11:42:12.038236Z"
    }
   },
   "outputs": [],
   "source": [
    "twist_msg = Twist()\n",
    "time_init = time.time()\n",
    "\n",
    "# time variables\n",
    "current_time = 0\n",
    "total_time = []\n",
    "\n",
    "# counter variables\n",
    "start_count = 0\n",
    "stop_count = 0\n",
    "\n",
    "# actual linear and angular velocities\n",
    "lin_cmd_data = []\n",
    "ang_cmd_data = []\n",
    "\n",
    "# real linear and angular velocities\n",
    "lin_odom_data = []\n",
    "ang_odom_data = []\n",
    "\n",
    "# position variables\n",
    "x_pos_data = []\n",
    "y_pos_data = []\n",
    "\n",
    "# orientation variables\n",
    "yaw = 0\n",
    "x_orient_data = []\n",
    "y_orient_data = []\n",
    "arrow_mod = 0.8\n",
    "\n",
    "start_time = 0\n",
    "stop_time = 0\n",
    "time_needed = []\n",
    "\n",
    "# reached and cancelled targets\n",
    "reached = 0\n",
    "canceled = 0 \n",
    "num = [0,0]\n",
    "\n",
    "def odom_clbk(msg):\n",
    "    global time_init, current_time, total_time, x_pos_data, y_pos_data, yaw, lin_odom_data, ang_odom_data\n",
    "    # time\n",
    "    current_time = time.time() - time_init\n",
    "    total_time.append(current_time)\n",
    "    # real position of the robot\n",
    "    x_pos_data.append(msg.pose.pose.position.x)\n",
    "    y_pos_data.append(msg.pose.pose.position.y)\n",
    "\n",
    "    # real yaw of the robot\n",
    "    quaternion = (\n",
    "        msg.pose.pose.orientation.x,\n",
    "        msg.pose.pose.orientation.y,\n",
    "        msg.pose.pose.orientation.z,\n",
    "        msg.pose.pose.orientation.w)\n",
    "    euler = transformations.euler_from_quaternion(quaternion)\n",
    "    yaw = euler[2]\n",
    "    \n",
    "    # real linear velocity\n",
    "    lin_odom_data.append(msg.twist.twist.linear.x)\n",
    "    # real angular velocity\n",
    "    ang_odom_data.append(msg.twist.twist.angular.z)\n",
    "    \n",
    "    # if the lists of elements collected are too big then delete the first element from each list\n",
    "    if len(total_time)>300:\n",
    "        total_time.pop(0)\n",
    "    if len(x_pos_data) > 300 and len(y_pos_data) > 300:\n",
    "        x_pos_data.pop(0)\n",
    "        y_pos_data.pop(0)\n",
    "    if len(lin_odom_data) > 300 and len(ang_odom_data) > 300:\n",
    "        lin_odom_data.pop(0)\n",
    "        ang_odom_data.pop(0)\n",
    "           \n",
    "    \n",
    "def cmd_clbk(msg):\n",
    "    global lin_cmd_data, ang_cmd_data\n",
    "    # linear and angular velocity given to the robot\n",
    "    lin_cmd_data.append(msg.linear.x)\n",
    "    ang_cmd_data.append(msg.angular.z)\n",
    "\n",
    "    if len(lin_cmd_data) > 300 and len(ang_cmd_data) > 300:\n",
    "        lin_cmd_data.pop(0)\n",
    "        ang_cmd_data.pop(0)\n",
    "        \n",
    "        \n",
    "def target_clbk(msg):\n",
    "    global reached, canceled, num, start_time, stop_time, time_needed\n",
    "    if(msg.data == 1):\n",
    "        reached += 1\n",
    "        stop_time = time.time()\n",
    "        time_needed.append(stop_time - start_time)\n",
    "        start_time = time.time()\n",
    "    else:\n",
    "        canceled += 1\n",
    "    num = [reached, canceled]\n",
    "        \n",
    "        \n",
    "# publisher to cmd_vel topic and subscriber to the odom topic nad cmd_vel topic\n",
    "pub = rospy.Publisher('/cmd_vel', Twist, queue_size = 1)\n",
    "odom_sub = rospy.Subscriber('/odom', Odometry, odom_clbk)\n",
    "cmd_sub = rospy.Subscriber('/cmd_vel', Twist, cmd_clbk)\n",
    "target_sub = rospy.Subscriber('robot_target', Int32, target_clbk)"
   ]
  },
  {
   "cell_type": "markdown",
   "id": "3e340da2",
   "metadata": {},
   "source": [
    "### Starting/stopping the robot using buttons"
   ]
  },
  {
   "cell_type": "markdown",
   "id": "807059f4",
   "metadata": {},
   "source": [
    "With this implementation, you will have two different buttons, that allow to interact directly with the simulation, making the robot starts and stops while the it is moving to reach its random position target within the simulation environment.\n",
    "Each of the button has a callback function associated, so anytime one of the button is pressed by the user, the corresponding callback function will be executed."
   ]
  },
  {
   "cell_type": "code",
   "execution_count": 4,
   "id": "e1633dfa",
   "metadata": {
    "ExecuteTime": {
     "end_time": "2023-02-01T11:42:14.706011Z",
     "start_time": "2023-02-01T11:42:14.598428Z"
    }
   },
   "outputs": [],
   "source": [
    "start_button = widgets.Button(description='START', layout=widgets.Layout(widht='auto',grid_area='b1'),\n",
    "                style=widgets.ButtonStyle(button_color='limegreen')) \n",
    "stop_button = widgets.Button(description='STOP', layout=widgets.Layout(widht='auto',grid_area='b2'),\n",
    "                style=widgets.ButtonStyle(button_color='firebrick')) "
   ]
  },
  {
   "cell_type": "code",
   "execution_count": 5,
   "id": "377bd78e",
   "metadata": {
    "ExecuteTime": {
     "end_time": "2023-02-01T11:42:16.455675Z",
     "start_time": "2023-02-01T11:42:16.410683Z"
    }
   },
   "outputs": [
    {
     "data": {
      "application/vnd.jupyter.widget-view+json": {
       "model_id": "6aab9fe1960c444482fd2474803132c8",
       "version_major": 2,
       "version_minor": 0
      },
      "text/plain": [
       "Output()"
      ]
     },
     "metadata": {},
     "output_type": "display_data"
    }
   ],
   "source": [
    "output = widgets.Output()\n",
    "\n",
    "def start_on(b):\n",
    "    global start_time\n",
    "    # start the robot behavior\n",
    "    ui_client('start')\n",
    "    start_time = time.time()    \n",
    "    with output:\n",
    "        print(\"The robot has been started\")\n",
    "\n",
    "\n",
    "def stop_on(b):\n",
    "    # stop the robot behavior\n",
    "    act_c.cancel_all_goals()\n",
    "    ui_client('stop')    \n",
    "    with output:\n",
    "        print(\"The robot has been stopped\")\n",
    "    \n",
    "    \n",
    "start_button.on_click(start_on) # on_click method for the start button\n",
    "stop_button.on_click(stop_on) # on_click method for the stop button\n",
    "display(output) # display the message"
   ]
  },
  {
   "cell_type": "code",
   "execution_count": 6,
   "id": "6f084f55",
   "metadata": {
    "ExecuteTime": {
     "end_time": "2023-02-01T11:42:18.276181Z",
     "start_time": "2023-02-01T11:42:18.226862Z"
    }
   },
   "outputs": [
    {
     "data": {
      "application/vnd.jupyter.widget-view+json": {
       "model_id": "5a04d20ddc574d0a98fb158bc8b83bcb",
       "version_major": 2,
       "version_minor": 0
      },
      "text/plain": [
       "GridBox(children=(Button(description='START', layout=Layout(grid_area='b1'), style=ButtonStyle(button_color='l…"
      ]
     },
     "metadata": {},
     "output_type": "display_data"
    }
   ],
   "source": [
    "# arrange the buttons neatly\n",
    "widgets.GridBox(children=[start_button,stop_button],\n",
    "                layout=widgets.Layout(width='60%',grid_template_rows='auto auto',\n",
    "                grid_template_columns='30% 20% 30%',\n",
    "                grid_template_areas=''' \"b1 . b2\" '''))"
   ]
  },
  {
   "cell_type": "markdown",
   "id": "c7623f3a",
   "metadata": {},
   "source": [
    "### Changing the linear and the angular velocity using sliders"
   ]
  },
  {
   "cell_type": "markdown",
   "id": "c793c761",
   "metadata": {},
   "source": [
    "With this implementation you will have two different sliders, that allow to change the linear and the angular velocity while the simulation is running. \n",
    "In particular, the user can select velocities between -1.0 and 1.5 m/s and rad/s. The default velocity without using the sliders is for both 0.5 m/s and rad/s."
   ]
  },
  {
   "cell_type": "code",
   "execution_count": 7,
   "id": "acc0078a",
   "metadata": {
    "ExecuteTime": {
     "end_time": "2023-02-01T09:55:38.748426Z",
     "start_time": "2023-02-01T09:55:38.693356Z"
    }
   },
   "outputs": [],
   "source": [
    "lin_vel_init = 0.5\n",
    "lin_vel_slider = widgets.FloatSlider(description='Linear velocity', value=lin_vel_init, min=-1.0, max=1.5)\n",
    "lin_vel_slider.style.handle_color = 'blue'\n",
    "\n",
    "ang_vel_init = 0.5\n",
    "ang_vel_slider = widgets.FloatSlider(description='Angular velocity', value=ang_vel_init, min=-1.0, max=1.5)\n",
    "ang_vel_slider.style.handle_color = 'blue'"
   ]
  },
  {
   "cell_type": "code",
   "execution_count": 8,
   "id": "39699899",
   "metadata": {
    "ExecuteTime": {
     "end_time": "2023-02-01T09:55:40.769416Z",
     "start_time": "2023-02-01T09:55:40.763462Z"
    }
   },
   "outputs": [],
   "source": [
    "def lin_vel_change(change): \n",
    "    global twist_msg\n",
    "    twist_msg.linear.x = change['new']\n",
    "    pub.publish(twist_msg)\n",
    "    \n",
    "def ang_vel_change(change):\n",
    "    global twist_msg\n",
    "    twist_msg.angular.z = change['new']\n",
    "    pub.publish(twist_msg)\n",
    "    \n",
    "lin_vel_slider.observe(lin_vel_change, names='value')\n",
    "ang_vel_slider.observe(ang_vel_change, names='value')"
   ]
  },
  {
   "cell_type": "code",
   "execution_count": 9,
   "id": "4ead83d0",
   "metadata": {
    "ExecuteTime": {
     "end_time": "2023-02-01T09:55:43.251046Z",
     "start_time": "2023-02-01T09:55:43.195327Z"
    }
   },
   "outputs": [
    {
     "data": {
      "application/vnd.jupyter.widget-view+json": {
       "model_id": "7c17ae80dc1f4983ac322b19e8288ba1",
       "version_major": 2,
       "version_minor": 0
      },
      "text/plain": [
       "HBox(children=(VBox(children=(FloatSlider(value=0.5, description='Linear velocity', max=1.5, min=-1.0, style=S…"
      ]
     },
     "metadata": {},
     "output_type": "display_data"
    }
   ],
   "source": [
    "widgets.HBox([widgets.VBox([lin_vel_slider, ang_vel_slider])])"
   ]
  },
  {
   "cell_type": "markdown",
   "id": "30a3796c",
   "metadata": {},
   "source": [
    "### Teleoperate the robot using buttons"
   ]
  },
  {
   "cell_type": "markdown",
   "id": "ae43a183",
   "metadata": {},
   "source": [
    "With this implementation you will have 5 different buttons. \n",
    "Four of them are use to directly teleoperate the robot within the simulation and are the following ones:\n",
    "- ↑ to go forward\n",
    "- ↓ to go backward\n",
    "- ← to turn left\n",
    "- → to turn right\n",
    "The other button is:\n",
    "- STOP to stop the robot\n",
    "\n",
    "As in the previous case, at each button is associated a callback, that is executed each time that the button get pressed."
   ]
  },
  {
   "cell_type": "code",
   "execution_count": 14,
   "id": "7867da8e",
   "metadata": {
    "ExecuteTime": {
     "end_time": "2023-02-01T09:39:49.626696Z",
     "start_time": "2023-02-01T09:39:49.504421Z"
    }
   },
   "outputs": [],
   "source": [
    "go_forward_button = widgets.Button(description='\\u2191',layout=Layout(width='auto', grid_area='b1'),\n",
    "style=ButtonStyle(button_color='lavender'))\n",
    "go_backward_button = widgets.Button(description='\\u2193',layout=Layout(width='auto', grid_area='b2'),\n",
    "style=ButtonStyle(button_color='lavender'))\n",
    "turn_left_button = widgets.Button(description='\\u2190',layout=Layout(width='auto', grid_area='b3'),\n",
    "style=ButtonStyle(button_color='lavender'))\n",
    "turn_right_button = widgets.Button(description='\\u2192',layout=Layout(width='auto', grid_area='b4'),\n",
    "style=ButtonStyle(button_color='lavender'))\n",
    "stop_button = widgets.Button(description='STOP',layout=Layout(width='auto', align=\"center\", grid_area='b5'),\n",
    "style=ButtonStyle(button_color='firebrick'))"
   ]
  },
  {
   "cell_type": "code",
   "execution_count": 15,
   "id": "73d2d7f9",
   "metadata": {
    "ExecuteTime": {
     "end_time": "2023-02-01T09:39:49.668974Z",
     "start_time": "2023-02-01T09:39:49.628880Z"
    }
   },
   "outputs": [],
   "source": [
    "def go_forward(click):\n",
    "    global twist_msg\n",
    "    twist_msg.linear.x = 1.0\n",
    "    twist_msg.angular.z = 0.0\n",
    "    pub.publish(twist_msg)\n",
    "    \n",
    "def go_backward(click):\n",
    "    global twist_msg\n",
    "    twist_msg.linear.x = - 1.0\n",
    "    twist_msg.angular.z = 0.0\n",
    "    pub.publish(twist_msg)\n",
    "    \n",
    "def turn_left(click):\n",
    "    global twist_msg\n",
    "    twist_msg.linear.x = 0.0\n",
    "    twist_msg.angular.z = -1.0\n",
    "    pub.publish(twist_msg)\n",
    "    \n",
    "def turn_right(click):\n",
    "    global twist_msg\n",
    "    twist_msg.linear.x = 0.0\n",
    "    twist_msg.angular.z = 1.0\n",
    "    pub.publish(twist_msg)\n",
    "    \n",
    "def stop_behavior(behavior):\n",
    "    global twist_msg\n",
    "    act_c.cancel_all_goals()\n",
    "    ui_client(\"stop\")\n",
    "    twist_msg.linear.x = 0.0\n",
    "    twist_msg.angular.z = 0.0\n",
    "    pub.publish(twist_msg)\n",
    "    \n",
    "go_forward_button.on_click(go_forward)\n",
    "go_backward_button.on_click(go_backward)\n",
    "turn_left_button.on_click(turn_left)\n",
    "turn_right_button.on_click(turn_right)\n",
    "stop_button.on_click(stop_behavior)"
   ]
  },
  {
   "cell_type": "code",
   "execution_count": 16,
   "id": "8fe45ef0",
   "metadata": {
    "ExecuteTime": {
     "end_time": "2023-02-01T09:39:49.739898Z",
     "start_time": "2023-02-01T09:39:49.676430Z"
    }
   },
   "outputs": [
    {
     "data": {
      "application/vnd.jupyter.widget-view+json": {
       "model_id": "aa7cc099f9394fd694fbc52d0a62bf50",
       "version_major": 2,
       "version_minor": 0
      },
      "text/plain": [
       "GridBox(children=(Button(description='↑', layout=Layout(grid_area='b1', width='auto'), style=ButtonStyle(butto…"
      ]
     },
     "metadata": {},
     "output_type": "display_data"
    }
   ],
   "source": [
    "widgets.GridBox(children=[go_forward_button, go_backward_button, turn_left_button, turn_right_button ,stop_button],\n",
    "                layout=widgets.Layout(width='75%',grid_template_rows='auto auto auto',\n",
    "                grid_template_columns='15% 15% 15% 20% 35%',\n",
    "                grid_template_areas='''\n",
    "                \". b1 . . .\"\n",
    "                \"b3 b2 b4 . .\"\n",
    "                \" . . . . b5\"\n",
    "                ''')\n",
    "               )"
   ]
  },
  {
   "cell_type": "markdown",
   "id": "5f9a004a",
   "metadata": {},
   "source": [
    "## Displaying graphical information"
   ]
  },
  {
   "cell_type": "markdown",
   "id": "1f9d20f1",
   "metadata": {},
   "source": [
    "### Line plot: cmd_vel vs actual velocity"
   ]
  },
  {
   "cell_type": "markdown",
   "id": "385bb1aa",
   "metadata": {},
   "source": [
    "The following plots show the comparison between the requested velocity and the actual velocity, respectively for the linear and the angular velocities. In addition, the method FuncAnimation is used: it makes an animation by repeatedly calling a function, that in this case are the animate_lin_vel and the animate_ang_vel, that updates the animation every time it is called."
   ]
  },
  {
   "cell_type": "code",
   "execution_count": 7,
   "id": "0d773c33",
   "metadata": {
    "ExecuteTime": {
     "end_time": "2023-02-01T11:42:22.592068Z",
     "start_time": "2023-02-01T11:42:22.301338Z"
    }
   },
   "outputs": [
    {
     "data": {
      "application/vnd.jupyter.widget-view+json": {
       "model_id": "5c9120cd29bb49ec84523a73315c849c",
       "version_major": 2,
       "version_minor": 0
      },
      "text/plain": [
       "Canvas(toolbar=Toolbar(toolitems=[('Home', 'Reset original view', 'home', 'home'), ('Back', 'Back to previous …"
      ]
     },
     "metadata": {},
     "output_type": "display_data"
    },
    {
     "data": {
      "application/vnd.jupyter.widget-view+json": {
       "model_id": "a72a8d16b89c4c968660f9583c454921",
       "version_major": 2,
       "version_minor": 0
      },
      "text/plain": [
       "Canvas(toolbar=Toolbar(toolitems=[('Home', 'Reset original view', 'home', 'home'), ('Back', 'Back to previous …"
      ]
     },
     "metadata": {},
     "output_type": "display_data"
    }
   ],
   "source": [
    "fig_lin_vel, ax_lin_vel = plt.subplots()\n",
    "fig_ang_vel, ax_ang_vel = plt.subplots()\n",
    "\n",
    "lin_vel_cmd, = ax_lin_vel.plot([], [], color='magenta', label = 'lin_vel_cmd')\n",
    "lin_vel_odom, = ax_lin_vel.plot([], [], color='navy', label = 'lin_vel_odom')\n",
    "\n",
    "ang_vel_cmd, = ax_ang_vel.plot([], [], color='mediumturquoise', label = 'ang_vel_cmd')\n",
    "ang_vel_odom, = ax_ang_vel.plot([], [], color='olivedrab', label = 'ang_vel_odom')\n",
    "\n",
    "ax_lin_vel.set_title('Linear velocity: cmd_vel vs odom')\n",
    "ax_lin_vel.set(xlabel = 'Time [s]', ylabel = 'Linear velocity [m/s]', xlim = (current_time - 10, current_time + 10), ylim = (-1.2, 1.7))\n",
    "\n",
    "ax_ang_vel.set_title('Angular velocity: cmd_vel vs odom')\n",
    "ax_ang_vel.set(xlabel = 'Time [s]', ylabel = 'Angular velocity [rad/s]', xlim = (current_time - 10, current_time + 10), ylim = (-1.2, 1.7))\n",
    "\n",
    "ax_lin_vel.legend()\n",
    "ax_ang_vel.legend()\n",
    "\n",
    "t = time.time()\n",
    "t_vel = []\n",
    "\n",
    "def init_lin_vel():\n",
    "    lin_vel_cmd.set_data([], [])\n",
    "    lin_vel_odom.set_data([], [])\n",
    "    return (lin_vel_cmd, lin_vel_odom)\n",
    "\n",
    "def animate_lin_vel(i):\n",
    "    global lin_cmd_data, lin_odom_data, t_vel, t\n",
    "    t_vel.append(time.time() -t)\n",
    "    lin_vel_cmd.set_data(t_vel, lin_cmd_data)\n",
    "    lin_vel_odom.set_data(t_vel, lin_odom_data)\n",
    "    return (lin_vel_cmd, lin_vel_odom)\n",
    "\n",
    "def init_ang_vel():\n",
    "    ang_vel_cmd.set_data([], [])\n",
    "    ang_vel_odom.set_data([], [])\n",
    "    return (ang_vel_cmd, ang_vel_odom)\n",
    "\n",
    "def animate_ang_vel(i):\n",
    "    global ang_cmd_data, ang_odom_data, t_vel, t\n",
    "    t_vel.append(time.time() -t)\n",
    "    ang_vel_cmd.set_data(t_vel, ang_cmd_data)\n",
    "    ang_vel_odom.set_data(t_vel, ang_odom_data)\n",
    "    return (ang_vel_cmd, ang_vel_odom)\n",
    "\n",
    "anim_lin_vel = animation.FuncAnimation(fig_lin_vel, animate_lin_vel, init_func=init_lin_vel, frames=100, interval=20, blit=True)\n",
    "anim_ang_vel = animation.FuncAnimation(fig_ang_vel, animate_ang_vel, init_func=init_ang_vel, frames=100, interval=20, blit=True)"
   ]
  },
  {
   "cell_type": "markdown",
   "id": "ba94256e",
   "metadata": {},
   "source": [
    "### Bar plot: reached and canceled targets"
   ]
  },
  {
   "cell_type": "markdown",
   "id": "9e05aa04",
   "metadata": {},
   "source": [
    "With this plot you're going to visualize how many target positions have been reached by the robot within the simulation and how many targets have been canceled by the user.\n",
    "In addition, the method FuncAnimation is used: it makes an animation by repeatedly calling a function, that in this case is the animate_barplot, that updates the animation every time it is called."
   ]
  },
  {
   "cell_type": "code",
   "execution_count": 11,
   "id": "e9a76ccc",
   "metadata": {
    "ExecuteTime": {
     "end_time": "2023-02-01T09:37:45.509697Z",
     "start_time": "2023-02-01T09:37:45.375842Z"
    }
   },
   "outputs": [
    {
     "data": {
      "application/vnd.jupyter.widget-view+json": {
       "model_id": "356629c5601d4f26bdfe6177892a911b",
       "version_major": 2,
       "version_minor": 0
      },
      "text/plain": [
       "Canvas(toolbar=Toolbar(toolitems=[('Home', 'Reset original view', 'home', 'home'), ('Back', 'Back to previous …"
      ]
     },
     "metadata": {},
     "output_type": "display_data"
    }
   ],
   "source": [
    "fig_barplot, ax_barplot = plt.subplots()\n",
    "\n",
    "ax_barplot.set_title('Number of reached and canceled target positions')\n",
    "ax_barplot.set(ylabel = 'Number of targets')\n",
    "\n",
    "targets = np.array(['Reached','Canceled'])\n",
    "barplot = ax_barplot.bar(targets, [0,0], width = 0.5, color = 'teal')\n",
    "\n",
    "def init_barplot():\n",
    "    ax_barplot.bar(targets, [0,0], width = 0.5, color = 'teal')\n",
    "    return (ax_barplot)\n",
    "             \n",
    "def animate_barplot(i):\n",
    "    global targets, num\n",
    "    ax_barplot.bar(targets, num, width = 0.5, color = 'teal')\n",
    "    return (ax_barplot)\n",
    "\n",
    "\n",
    "anim_bar = animation.FuncAnimation(fig_barplot, animate_barplot, init_func = init_barplot, frames=100, interval=10, blit=True)"
   ]
  },
  {
   "cell_type": "markdown",
   "id": "c54938c6",
   "metadata": {},
   "source": [
    "### Hist plot: required time to reach the targets"
   ]
  },
  {
   "cell_type": "markdown",
   "id": "771fcb3c",
   "metadata": {},
   "source": [
    "With this plot you're going to visualize the time required, in seconds, to reach each target within the simulation.\n",
    "In addition, the method FuncAnimation is used: it makes an animation by repeatedly calling a function, that in this case is the animate_histplot, that updates the animation every time it is called."
   ]
  },
  {
   "cell_type": "code",
   "execution_count": 12,
   "id": "32162085",
   "metadata": {
    "ExecuteTime": {
     "end_time": "2023-02-01T09:37:48.715886Z",
     "start_time": "2023-02-01T09:37:48.586363Z"
    }
   },
   "outputs": [
    {
     "data": {
      "application/vnd.jupyter.widget-view+json": {
       "model_id": "741d5654c9aa45d49a571bdb34839abe",
       "version_major": 2,
       "version_minor": 0
      },
      "text/plain": [
       "Canvas(toolbar=Toolbar(toolitems=[('Home', 'Reset original view', 'home', 'home'), ('Back', 'Back to previous …"
      ]
     },
     "metadata": {},
     "output_type": "display_data"
    }
   ],
   "source": [
    "fig_histplot, ax_histplot = plt.subplots()\n",
    "ax_histplot.set_title('Time needed to reach the target')\n",
    "ax_histplot.set(xlabel = 'Time [s]')\n",
    "\n",
    "def init_histplot():\n",
    "    ax_histplot.hist([], bins = 50, color = 'orange')\n",
    "    return (ax_histplot)\n",
    "    \n",
    "def animate_histplot(i):\n",
    "    global time_needed\n",
    "    ax_histplot.hist(time_needed, bins = 50, color = 'orange')\n",
    "    return (ax_histplot)\n",
    "\n",
    "\n",
    "anim_hist = animation.FuncAnimation(fig_histplot, animate_histplot, init_func = init_histplot, frames=100, interval=10, blit=True)"
   ]
  },
  {
   "cell_type": "markdown",
   "id": "2d2eb18c",
   "metadata": {},
   "source": [
    "### xy graph: robot's position and orientation"
   ]
  },
  {
   "cell_type": "markdown",
   "id": "2da0cfb4",
   "metadata": {},
   "source": [
    "With this graph you are able to visualize the trajectory that the robot is following in order to reach the target position in the simulation environment. So, you are going to see both the real-time position in the space and also the orientation of the robot. The orientation is highlighted by an arrow.  "
   ]
  },
  {
   "cell_type": "code",
   "execution_count": 13,
   "id": "856cb822",
   "metadata": {
    "ExecuteTime": {
     "end_time": "2023-02-01T09:37:53.780143Z",
     "start_time": "2023-02-01T09:37:53.637457Z"
    }
   },
   "outputs": [
    {
     "data": {
      "application/vnd.jupyter.widget-view+json": {
       "model_id": "163c05dc922d4d9b9455b69005c92ac0",
       "version_major": 2,
       "version_minor": 0
      },
      "text/plain": [
       "Canvas(toolbar=Toolbar(toolitems=[('Home', 'Reset original view', 'home', 'home'), ('Back', 'Back to previous …"
      ]
     },
     "metadata": {},
     "output_type": "display_data"
    }
   ],
   "source": [
    "fig_pos, ax_pos = plt.subplots()\n",
    "\n",
    "pos_plt, = ax_pos.plot([], [], 'orchid')\n",
    "\n",
    "ax_pos.set_title('Position and orientation of the robot')\n",
    "ax_pos.set(xlabel = 'x', ylabel = 'y', xlim = (-7,7) , ylim = (-7,7))\n",
    "\n",
    "def init_pos():\n",
    "    pos_plt.set_data([], [])\n",
    "    return (pos_plt, arrow)\n",
    "\n",
    "def animate_pos(i):\n",
    "    global x_pos_data, y_pos_data, yaw, x_orient_data, y_orient_data\n",
    "    pos_plt.set_data(x_pos_data, y_pos_data)\n",
    "    if len(x_pos_data) > 0:\n",
    "        x = x_pos_data[len(x_pos_data) - 1]\n",
    "        y = y_pos_data[len(y_pos_data) - 1]\n",
    "        \n",
    "        arrow.set_position((x,y))\n",
    "        x_orient_data = np.cos(yaw)\n",
    "        y_orient_data = np.sin(yaw)\n",
    "        arrow.xy = (x + arrow_mod*x_orient_data, y + arrow_mod*y_orient_data)\n",
    "        \n",
    "    return pos_plt, arrow\n",
    "\n",
    "arrow = ax_pos.annotate('', xy = (arrow_mod*np.cos(0), arrow_mod*np.sin(0)), xytext = (0,0), arrowprops = dict(facecolor = 'darkviolet', shrink = 0.05))\n",
    "\n",
    "anim_pos = animation.FuncAnimation(fig_pos, animate_pos, init_func = init_pos, frames = 100, interval = 20, blit = True)\n",
    "fig_pos.show()"
   ]
  },
  {
   "cell_type": "code",
   "execution_count": null,
   "id": "9bc0d859",
   "metadata": {},
   "outputs": [],
   "source": []
  }
 ],
 "metadata": {
  "kernelspec": {
   "display_name": "Python 3 (ipykernel)",
   "language": "python",
   "name": "python3"
  },
  "language_info": {
   "codemirror_mode": {
    "name": "ipython",
    "version": 3
   },
   "file_extension": ".py",
   "mimetype": "text/x-python",
   "name": "python",
   "nbconvert_exporter": "python",
   "pygments_lexer": "ipython3",
   "version": "3.8.5"
  }
 },
 "nbformat": 4,
 "nbformat_minor": 5
}

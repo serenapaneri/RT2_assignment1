{
 "cells": [
  {
   "cell_type": "markdown",
   "id": "c41000a0",
   "metadata": {},
   "source": [
    "# Second assignment of Research Track II"
   ]
  },
  {
   "cell_type": "markdown",
   "id": "e307ce46",
   "metadata": {},
   "source": [
    "## Jupyter notebook of the node user_interface"
   ]
  },
  {
   "cell_type": "markdown",
   "id": "48a6acd8",
   "metadata": {},
   "source": [
    "With this implementation you will be able control the behavior of the robot within the Gazebo environment. In addition, you will have much more functionalities to control the simulation thanks to the presence of widgets and the Matplotlib library. "
   ]
  },
  {
   "cell_type": "markdown",
   "id": "c2bedb6e",
   "metadata": {},
   "source": [
    "In particular the new functionalities, implemented thanks to these tools, are now:\n",
    "- the ability to start/stop the robot, that is regulated with two buttons;\n",
    "- the ability of changing the velocities, both linear and angular, using two sliders;\n",
    "- the ability of directly teleoperate the movements of the robot in each direction (plus the stop), with 5 buttons."
   ]
  },
  {
   "cell_type": "markdown",
   "id": "8ec64d29",
   "metadata": {},
   "source": [
    "Moreover, you have some information, concerning the simulation, that are graphically displayed, including:\n",
    "- a line plot that displays cmd_vel vs actual velocity (for both linear and angular velocities);\n",
    "- a bar plot that allows to see the number of reached and canceled target positions during the execution of the simulation;\n",
    "- a hist plot that shows the time required to reach each target position;\n",
    "- an xy graph that shows the robot's position and orientation during the execution of the simulation."
   ]
  },
  {
   "cell_type": "markdown",
   "id": "c6ebeba9",
   "metadata": {},
   "source": [
    "## How to run the code"
   ]
  },
  {
   "cell_type": "markdown",
   "id": "531974cf",
   "metadata": {},
   "source": [
    "After cloning the repository in a ROS workspace, you'll need two different terminals."
   ]
  },
  {
   "cell_type": "markdown",
   "id": "13a449da",
   "metadata": {},
   "source": [
    "In the first terminals you need to type the following instructions:\n",
    "- in your ROS workspace you need to build the package that you have just cloned using the command \n",
    "\n",
    "   `catkin_make`\n",
    "   \n",
    "   \n",
    "- then, you need to go inside the package that you have cloned and starts the simulation by typing\n",
    "\n",
    "   `roslaunch rt2_assignment1 notebook.launch`"
   ]
  },
  {
   "cell_type": "markdown",
   "id": "e077a94d",
   "metadata": {},
   "source": [
    "In the second terminal you need to start the Jupyter notebook by typing\n",
    "\n",
    "`jupyter notebook --allow-root --ip 0.0.0.0`\n",
    "\n",
    "\n",
    "Then open the file **user_interface.ipynb** and run all the cells (the ones that you need) to be able to directly interact with the Gazebo simulation environment.\n",
    "\n",
    "\n",
    "Advice: if you have not already done so, I recommend that you activate the nbextention *execute time*, to make sure that a cell has actually been run. "
   ]
  },
  {
   "cell_type": "markdown",
   "id": "f7ec195d",
   "metadata": {},
   "source": [
    "## Headers and initialization of the node"
   ]
  },
  {
   "cell_type": "markdown",
   "id": "552f19b3",
   "metadata": {},
   "source": [
    "This notebook, as it happens for the user_interface node, communicates with the other three nodes that are the:\n",
    "- go_to_point; \n",
    "- position_service;\n",
    "- state_machine."
   ]
  },
  {
   "cell_type": "markdown",
   "id": "0b971970",
   "metadata": {},
   "source": [
    "Here are listed the headers that are needed for our purpose:"
   ]
  },
  {
   "cell_type": "code",
   "execution_count": 1,
   "id": "fe3e4455",
   "metadata": {
    "ExecuteTime": {
     "end_time": "2023-02-05T21:52:42.576874Z",
     "start_time": "2023-02-05T21:52:40.370855Z"
    }
   },
   "outputs": [],
   "source": [
    "import rospy\n",
    "import time\n",
    "import math\n",
    "from rt2_assignment1.srv import Command\n",
    "import actionlib\n",
    "import actionlib.msg\n",
    "import rt2_assignment1.msg\n",
    "from rt2_assignment1.msg import TargetActionResult\n",
    "from std_msgs.msg import Int32\n",
    "\n",
    "import matplotlib.pyplot as plt\n",
    "import numpy as np\n",
    "import jupyros as jr\n",
    "import ipywidgets as widgets\n",
    "from geometry_msgs.msg import Twist\n",
    "from nav_msgs.msg import Odometry\n",
    "from tf import transformations\n",
    "from matplotlib import animation, rc\n",
    "from matplotlib.animation import FuncAnimation\n",
    "from ipywidgets import Button, Layout, ButtonStyle, GridBox, VBox, HBox, FloatSlider\n",
    "from IPython.display import display\n",
    "%matplotlib widget"
   ]
  },
  {
   "cell_type": "markdown",
   "id": "37dbfe1c",
   "metadata": {},
   "source": [
    "Now we initialize the node and implement the action client in order to start and stop the behavior of the robot, without waiting the end of the task:"
   ]
  },
  {
   "cell_type": "code",
   "execution_count": 2,
   "id": "b065b426",
   "metadata": {
    "ExecuteTime": {
     "end_time": "2023-02-05T21:52:43.030251Z",
     "start_time": "2023-02-05T21:52:42.581882Z"
    }
   },
   "outputs": [
    {
     "data": {
      "text/plain": [
       "True"
      ]
     },
     "execution_count": 2,
     "metadata": {},
     "output_type": "execute_result"
    }
   ],
   "source": [
    "# initialization of the node\n",
    "rospy.init_node('user_interface')\n",
    "ui_client = rospy.ServiceProxy('/user_interface', Command)\n",
    "    \n",
    "# action client to cancel the goal \n",
    "act_c = actionlib.SimpleActionClient(\"go_to_point\", rt2_assignment1.msg.TargetAction)\n",
    "act_c.wait_for_server()"
   ]
  },
  {
   "cell_type": "markdown",
   "id": "e2c3b808",
   "metadata": {},
   "source": [
    "## Global variables and functions"
   ]
  },
  {
   "cell_type": "markdown",
   "id": "4cb52c5b",
   "metadata": {},
   "source": [
    "Then the global variable used within the notebook are all initialized here and, moreover, here we can find the callback to the /odom topic, in a way that we can know the real position of the robot in any time, and as a consequence also the real velocity, the callback to the /cmd_vel topic, to know the velocity given to the robot, and the target callback, that advertise when the robot reaches its goal position."
   ]
  },
  {
   "cell_type": "code",
   "execution_count": 3,
   "id": "14ca4708",
   "metadata": {
    "ExecuteTime": {
     "end_time": "2023-02-05T21:52:43.068923Z",
     "start_time": "2023-02-05T21:52:43.047301Z"
    }
   },
   "outputs": [],
   "source": [
    "twist_msg = Twist()\n",
    "\n",
    "# time variables\n",
    "current_time_lin = time.time()\n",
    "total_time_lin = []\n",
    "current_time_ang = time.time()\n",
    "total_time_ang = []\n",
    "\n",
    "# counter variables\n",
    "start_count = 0\n",
    "stop_count = 0\n",
    "\n",
    "# actual linear and angular velocities\n",
    "lin_cmd = 0\n",
    "ang_cmd = 0\n",
    "lin_cmd_data = []\n",
    "ang_cmd_data = []\n",
    "\n",
    "# real linear and angular velocities\n",
    "lin_odom = 0\n",
    "ang_odom = 0\n",
    "lin_odom_data = []\n",
    "ang_odom_data = []\n",
    "\n",
    "# position variables\n",
    "x_pos_data = []\n",
    "y_pos_data = []\n",
    "\n",
    "# orientation variables\n",
    "yaw = 0\n",
    "x_orient_data = []\n",
    "y_orient_data = []\n",
    "arrow_mod = 0.8\n",
    "\n",
    "start_time = 0\n",
    "stop_time = 0\n",
    "time_needed = []\n",
    "\n",
    "# reached and cancelled targets\n",
    "reached = 0\n",
    "canceled = 0 \n",
    "num = [0,0]"
   ]
  },
  {
   "cell_type": "code",
   "execution_count": 4,
   "id": "aabc1184",
   "metadata": {
    "ExecuteTime": {
     "end_time": "2023-02-05T21:52:43.168758Z",
     "start_time": "2023-02-05T21:52:43.095884Z"
    }
   },
   "outputs": [],
   "source": [
    "def odom_clbk(msg):\n",
    "    global x_pos_data, y_pos_data, yaw, lin_odom, ang_odom\n",
    "    # real position of the robot\n",
    "    x_pos_data.append(msg.pose.pose.position.x)\n",
    "    y_pos_data.append(msg.pose.pose.position.y)\n",
    "\n",
    "    # real yaw of the robot\n",
    "    quaternion = (\n",
    "        msg.pose.pose.orientation.x,\n",
    "        msg.pose.pose.orientation.y,\n",
    "        msg.pose.pose.orientation.z,\n",
    "        msg.pose.pose.orientation.w)\n",
    "    euler = transformations.euler_from_quaternion(quaternion)\n",
    "    yaw = euler[2]\n",
    "    \n",
    "    # real linear velocity\n",
    "    lin_odom = msg.twist.twist.linear.x\n",
    "    # real angular velocity\n",
    "    ang_odom = msg.twist.twist.angular.z\n",
    "           \n",
    "    \n",
    "def cmd_clbk(msg):\n",
    "    global lin_cmd, ang_cmd\n",
    "    # linear and angular velocity given to the robot\n",
    "    lin_cmd = msg.linear.x\n",
    "    ang_cmd = msg.angular.z\n",
    "        \n",
    "        \n",
    "def target_clbk(msg):\n",
    "    global reached, canceled, num, start_time, stop_time, time_needed\n",
    "    if(msg.data == 1):\n",
    "        reached += 1\n",
    "        stop_time = time.time()\n",
    "        time_needed.append(stop_time - start_time)\n",
    "        start_time = time.time()\n",
    "    else:\n",
    "        canceled += 1\n",
    "    num = [reached, canceled]\n",
    "        \n",
    "        \n",
    "# publisher to cmd_vel topic and subscriber to the odom topic nad cmd_vel topic\n",
    "pub = rospy.Publisher('/cmd_vel', Twist, queue_size = 1)\n",
    "odom_sub = rospy.Subscriber('/odom', Odometry, odom_clbk)\n",
    "cmd_sub = rospy.Subscriber('/cmd_vel', Twist, cmd_clbk)\n",
    "target_sub = rospy.Subscriber('robot_target', Int32, target_clbk)"
   ]
  },
  {
   "cell_type": "markdown",
   "id": "3e340da2",
   "metadata": {},
   "source": [
    "### Starting/stopping the robot using buttons"
   ]
  },
  {
   "cell_type": "markdown",
   "id": "807059f4",
   "metadata": {},
   "source": [
    "With this implementation, you will have two different buttons, that allow to interact directly with the simulation, making the robot starts and stops while the it is moving to reach its random position target within the simulation environment.\n",
    "Each of the button has a callback function associated, so anytime one of the button is pressed by the user, the corresponding callback function will be executed."
   ]
  },
  {
   "cell_type": "code",
   "execution_count": 5,
   "id": "e1633dfa",
   "metadata": {
    "ExecuteTime": {
     "end_time": "2023-02-05T21:52:43.264287Z",
     "start_time": "2023-02-05T21:52:43.172156Z"
    }
   },
   "outputs": [],
   "source": [
    "start_button = widgets.Button(description='START', layout=widgets.Layout(widht='auto',grid_area='b1'),\n",
    "                style=widgets.ButtonStyle(button_color='limegreen')) \n",
    "stop_button = widgets.Button(description='STOP', layout=widgets.Layout(widht='auto',grid_area='b2'),\n",
    "                style=widgets.ButtonStyle(button_color='firebrick')) "
   ]
  },
  {
   "cell_type": "code",
   "execution_count": 6,
   "id": "377bd78e",
   "metadata": {
    "ExecuteTime": {
     "end_time": "2023-02-05T21:52:43.321018Z",
     "start_time": "2023-02-05T21:52:43.272982Z"
    }
   },
   "outputs": [
    {
     "data": {
      "application/vnd.jupyter.widget-view+json": {
       "model_id": "7847707fbab64592898ebf8a6054b3ce",
       "version_major": 2,
       "version_minor": 0
      },
      "text/plain": [
       "Output()"
      ]
     },
     "metadata": {},
     "output_type": "display_data"
    }
   ],
   "source": [
    "output = widgets.Output()\n",
    "\n",
    "def start_on(b):\n",
    "    global start_time\n",
    "    # start the robot behavior\n",
    "    ui_client('start')\n",
    "    start_time = time.time()    \n",
    "    with output:\n",
    "        print(\"The robot has been started\")\n",
    "\n",
    "\n",
    "def stop_on(b):\n",
    "    # stop the robot behavior\n",
    "    act_c.cancel_all_goals()\n",
    "    ui_client('stop')    \n",
    "    with output:\n",
    "        print(\"The robot has been stopped\")\n",
    "    \n",
    "    \n",
    "start_button.on_click(start_on) # on_click method for the start button\n",
    "stop_button.on_click(stop_on) # on_click method for the stop button\n",
    "display(output) # display the message"
   ]
  },
  {
   "cell_type": "code",
   "execution_count": 7,
   "id": "6f084f55",
   "metadata": {
    "ExecuteTime": {
     "end_time": "2023-02-05T21:52:43.379978Z",
     "start_time": "2023-02-05T21:52:43.325219Z"
    }
   },
   "outputs": [
    {
     "data": {
      "application/vnd.jupyter.widget-view+json": {
       "model_id": "85ec3ee1e7af46429da8d6f982797a76",
       "version_major": 2,
       "version_minor": 0
      },
      "text/plain": [
       "GridBox(children=(Button(description='START', layout=Layout(grid_area='b1'), style=ButtonStyle(button_color='l…"
      ]
     },
     "metadata": {},
     "output_type": "display_data"
    }
   ],
   "source": [
    "# arrange the buttons neatly\n",
    "widgets.GridBox(children=[start_button,stop_button],\n",
    "                layout=widgets.Layout(width='60%',grid_template_rows='auto auto',\n",
    "                grid_template_columns='30% 20% 30%',\n",
    "                grid_template_areas=''' \"b1 . b2\" '''))"
   ]
  },
  {
   "cell_type": "markdown",
   "id": "c7623f3a",
   "metadata": {},
   "source": [
    "### Changing the linear and the angular velocity using sliders"
   ]
  },
  {
   "cell_type": "markdown",
   "id": "c793c761",
   "metadata": {},
   "source": [
    "With this implementation you will have two different sliders, that allow to change the linear and the angular velocity while the simulation is running. \n",
    "In particular, the user can select velocities between -1.0 and 1.5 m/s and rad/s. The default velocity without using the sliders is for both 0.5 m/s and rad/s."
   ]
  },
  {
   "cell_type": "code",
   "execution_count": 8,
   "id": "acc0078a",
   "metadata": {
    "ExecuteTime": {
     "end_time": "2023-02-05T21:52:43.476806Z",
     "start_time": "2023-02-05T21:52:43.396443Z"
    }
   },
   "outputs": [],
   "source": [
    "lin_vel_init = 0.5\n",
    "lin_vel_slider = widgets.FloatSlider(description='Linear velocity', value=lin_vel_init, min=-1.0, max=1.5)\n",
    "lin_vel_slider.style.handle_color = 'blue'\n",
    "\n",
    "ang_vel_init = 0.5\n",
    "ang_vel_slider = widgets.FloatSlider(description='Angular velocity', value=ang_vel_init, min=-1.0, max=1.5)\n",
    "ang_vel_slider.style.handle_color = 'blue'"
   ]
  },
  {
   "cell_type": "code",
   "execution_count": 9,
   "id": "39699899",
   "metadata": {
    "ExecuteTime": {
     "end_time": "2023-02-05T21:52:43.497737Z",
     "start_time": "2023-02-05T21:52:43.485050Z"
    }
   },
   "outputs": [],
   "source": [
    "def lin_vel_change(change): \n",
    "    global twist_msg\n",
    "    twist_msg.linear.x = change['new']\n",
    "    pub.publish(twist_msg)\n",
    "    \n",
    "def ang_vel_change(change):\n",
    "    global twist_msg\n",
    "    twist_msg.angular.z = change['new']\n",
    "    pub.publish(twist_msg)\n",
    "    \n",
    "lin_vel_slider.observe(lin_vel_change, names='value')\n",
    "ang_vel_slider.observe(ang_vel_change, names='value')"
   ]
  },
  {
   "cell_type": "code",
   "execution_count": 10,
   "id": "4ead83d0",
   "metadata": {
    "ExecuteTime": {
     "end_time": "2023-02-05T21:52:43.564149Z",
     "start_time": "2023-02-05T21:52:43.507759Z"
    }
   },
   "outputs": [
    {
     "data": {
      "application/vnd.jupyter.widget-view+json": {
       "model_id": "b03afc030afc42ea904846397232d659",
       "version_major": 2,
       "version_minor": 0
      },
      "text/plain": [
       "HBox(children=(VBox(children=(FloatSlider(value=0.5, description='Linear velocity', max=1.5, min=-1.0, style=S…"
      ]
     },
     "metadata": {},
     "output_type": "display_data"
    }
   ],
   "source": [
    "widgets.HBox([widgets.VBox([lin_vel_slider, ang_vel_slider])])"
   ]
  },
  {
   "cell_type": "markdown",
   "id": "30a3796c",
   "metadata": {},
   "source": [
    "### Teleoperate the robot using buttons"
   ]
  },
  {
   "cell_type": "markdown",
   "id": "ae43a183",
   "metadata": {},
   "source": [
    "With this implementation you will have 5 different buttons. \n",
    "Four of them are use to directly teleoperate the robot within the simulation and are the following ones:\n",
    "- ↑ to go forward\n",
    "- ↓ to go backward\n",
    "- ← to turn left\n",
    "- → to turn right\n",
    "The other button is:\n",
    "- STOP to stop the robot\n",
    "\n",
    "As in the previous case, at each button is associated a callback, that is executed each time that the button get pressed."
   ]
  },
  {
   "cell_type": "code",
   "execution_count": 11,
   "id": "7867da8e",
   "metadata": {
    "ExecuteTime": {
     "end_time": "2023-02-05T21:52:43.686453Z",
     "start_time": "2023-02-05T21:52:43.570989Z"
    }
   },
   "outputs": [],
   "source": [
    "go_forward_button = widgets.Button(description='\\u2191',layout=Layout(width='auto', grid_area='b1'),\n",
    "style=ButtonStyle(button_color='lavender'))\n",
    "go_backward_button = widgets.Button(description='\\u2193',layout=Layout(width='auto', grid_area='b2'),\n",
    "style=ButtonStyle(button_color='lavender'))\n",
    "turn_left_button = widgets.Button(description='\\u2190',layout=Layout(width='auto', grid_area='b3'),\n",
    "style=ButtonStyle(button_color='lavender'))\n",
    "turn_right_button = widgets.Button(description='\\u2192',layout=Layout(width='auto', grid_area='b4'),\n",
    "style=ButtonStyle(button_color='lavender'))\n",
    "stop_button = widgets.Button(description='STOP',layout=Layout(width='auto', align=\"center\", grid_area='b5'),\n",
    "style=ButtonStyle(button_color='firebrick'))"
   ]
  },
  {
   "cell_type": "code",
   "execution_count": 12,
   "id": "73d2d7f9",
   "metadata": {
    "ExecuteTime": {
     "end_time": "2023-02-05T21:52:43.712305Z",
     "start_time": "2023-02-05T21:52:43.691739Z"
    }
   },
   "outputs": [],
   "source": [
    "def go_forward(click):\n",
    "    global twist_msg\n",
    "    twist_msg.linear.x = 1.0\n",
    "    twist_msg.angular.z = 0.0\n",
    "    pub.publish(twist_msg)\n",
    "    \n",
    "def go_backward(click):\n",
    "    global twist_msg\n",
    "    twist_msg.linear.x = - 1.0\n",
    "    twist_msg.angular.z = 0.0\n",
    "    pub.publish(twist_msg)\n",
    "    \n",
    "def turn_left(click):\n",
    "    global twist_msg\n",
    "    twist_msg.linear.x = 0.0\n",
    "    twist_msg.angular.z = -1.0\n",
    "    pub.publish(twist_msg)\n",
    "    \n",
    "def turn_right(click):\n",
    "    global twist_msg\n",
    "    twist_msg.linear.x = 0.0\n",
    "    twist_msg.angular.z = 1.0\n",
    "    pub.publish(twist_msg)\n",
    "    \n",
    "def stop_behavior(behavior):\n",
    "    global twist_msg\n",
    "    act_c.cancel_all_goals()\n",
    "    ui_client(\"stop\")\n",
    "    twist_msg.linear.x = 0.0\n",
    "    twist_msg.angular.z = 0.0\n",
    "    pub.publish(twist_msg)\n",
    "    \n",
    "go_forward_button.on_click(go_forward)\n",
    "go_backward_button.on_click(go_backward)\n",
    "turn_left_button.on_click(turn_left)\n",
    "turn_right_button.on_click(turn_right)\n",
    "stop_button.on_click(stop_behavior)"
   ]
  },
  {
   "cell_type": "code",
   "execution_count": 13,
   "id": "8fe45ef0",
   "metadata": {
    "ExecuteTime": {
     "end_time": "2023-02-05T21:52:43.783671Z",
     "start_time": "2023-02-05T21:52:43.715817Z"
    }
   },
   "outputs": [
    {
     "data": {
      "application/vnd.jupyter.widget-view+json": {
       "model_id": "a8f4d8e34d3c4dcc8e0d912dcf69c611",
       "version_major": 2,
       "version_minor": 0
      },
      "text/plain": [
       "GridBox(children=(Button(description='↑', layout=Layout(grid_area='b1', width='auto'), style=ButtonStyle(butto…"
      ]
     },
     "metadata": {},
     "output_type": "display_data"
    }
   ],
   "source": [
    "widgets.GridBox(children=[go_forward_button, go_backward_button, turn_left_button, turn_right_button ,stop_button],\n",
    "                layout=widgets.Layout(width='75%',grid_template_rows='auto auto auto',\n",
    "                grid_template_columns='15% 15% 15% 20% 35%',\n",
    "                grid_template_areas='''\n",
    "                \". b1 . . .\"\n",
    "                \"b3 b2 b4 . .\"\n",
    "                \" . . . . b5\"\n",
    "                ''')\n",
    "               )"
   ]
  },
  {
   "cell_type": "markdown",
   "id": "5f9a004a",
   "metadata": {},
   "source": [
    "## Displaying graphical information"
   ]
  },
  {
   "cell_type": "markdown",
   "id": "1f9d20f1",
   "metadata": {},
   "source": [
    "### Line plot: cmd_vel vs actual velocity"
   ]
  },
  {
   "cell_type": "markdown",
   "id": "385bb1aa",
   "metadata": {},
   "source": [
    "The following plots show the comparison between the requested velocity and the actual velocity, respectively for the linear and the angular velocities. In addition, the method FuncAnimation is used: it makes an animation by repeatedly calling a function, that in this case are the animate_lin_vel and the animate_ang_vel, that updates the animation every time it is called."
   ]
  },
  {
   "cell_type": "markdown",
   "id": "99db6200",
   "metadata": {},
   "source": [
    "#### Linear velocity"
   ]
  },
  {
   "cell_type": "code",
   "execution_count": 14,
   "id": "0d773c33",
   "metadata": {
    "ExecuteTime": {
     "end_time": "2023-02-05T21:52:43.969535Z",
     "start_time": "2023-02-05T21:52:43.805419Z"
    }
   },
   "outputs": [
    {
     "data": {
      "application/vnd.jupyter.widget-view+json": {
       "model_id": "e3d96ac3461845038f417feadf7eeb7a",
       "version_major": 2,
       "version_minor": 0
      },
      "text/plain": [
       "Canvas(toolbar=Toolbar(toolitems=[('Home', 'Reset original view', 'home', 'home'), ('Back', 'Back to previous …"
      ]
     },
     "metadata": {},
     "output_type": "display_data"
    }
   ],
   "source": [
    "fig_lin_vel, ax_lin_vel = plt.subplots()\n",
    "\n",
    "lin_vel_cmd, = ax_lin_vel.plot([], [], color='magenta', label = 'lin_vel_cmd')\n",
    "lin_vel_odom, = ax_lin_vel.plot([], [], color='navy', label = 'lin_vel_odom')\n",
    "ax_lin_vel.axis([0, 10, -2, 2])\n",
    "\n",
    "ax_lin_vel.set_title('Linear velocity: cmd_vel vs odom')\n",
    "ax_lin_vel.set(xlabel = 'Time [s]', ylabel = 'Linear velocity [m/s]')\n",
    "\n",
    "ax_lin_vel.legend()\n",
    "\n",
    "def init_lin_vel():\n",
    "    lin_vel_cmd.set_data([], [])\n",
    "    lin_vel_odom.set_data([], [])\n",
    "    return (lin_vel_cmd, lin_vel_odom)\n",
    "\n",
    "def animate_lin_vel(i):\n",
    "    global current_time_lin, total_time_lin\n",
    "    lin_cmd_data.append(lin_cmd)\n",
    "    lin_odom_data.append(lin_odom)\n",
    "    total_time_lin.append(time.time() - current_time_lin)\n",
    "    lin_vel_cmd.set_data(total_time_lin, lin_cmd_data)\n",
    "    lin_vel_odom.set_data([total_time_lin], [lin_odom_data])\n",
    "    \n",
    "    if total_time_lin[len(total_time_lin) -1] > 9:\n",
    "        ax_lin_vel.axis([total_time_lin[len(total_time_lin) -1] -9 , total_time_lin[len(total_time_lin) -1] + 1, -1.2, 1.7])\n",
    "        total_time_lin.pop(0)\n",
    "        lin_cmd_data.pop(0)\n",
    "        lin_odom_data.pop(0)\n",
    "    return (lin_vel_cmd, lin_vel_odom)\n",
    "\n",
    "\n",
    "anim_lin_vel = animation.FuncAnimation(fig_lin_vel, animate_lin_vel, init_func=init_lin_vel, frames=100, interval=20, blit=True)"
   ]
  },
  {
   "cell_type": "markdown",
   "id": "76588fc8",
   "metadata": {},
   "source": [
    "#### Angular velocity"
   ]
  },
  {
   "cell_type": "code",
   "execution_count": 15,
   "id": "38929ded",
   "metadata": {
    "ExecuteTime": {
     "end_time": "2023-02-05T21:52:44.152605Z",
     "start_time": "2023-02-05T21:52:43.976878Z"
    }
   },
   "outputs": [
    {
     "data": {
      "application/vnd.jupyter.widget-view+json": {
       "model_id": "8f269574dccc46169d022dbdf9ec4381",
       "version_major": 2,
       "version_minor": 0
      },
      "text/plain": [
       "Canvas(toolbar=Toolbar(toolitems=[('Home', 'Reset original view', 'home', 'home'), ('Back', 'Back to previous …"
      ]
     },
     "metadata": {},
     "output_type": "display_data"
    }
   ],
   "source": [
    "fig_ang_vel, ax_ang_vel = plt.subplots()\n",
    "\n",
    "ang_vel_cmd, = ax_ang_vel.plot([], [], color='mediumturquoise', label = 'lin_vel_cmd')\n",
    "ang_vel_odom, = ax_ang_vel.plot([], [], color='olivedrab', label = 'lin_vel_odom')\n",
    "ax_ang_vel.axis([0, 10, -2, 2])\n",
    "\n",
    "ax_ang_vel.set_title('Angular velocity: cmd_vel vs odom')\n",
    "ax_ang_vel.set(xlabel = 'Time [s]', ylabel = 'Angular velocity [rad/s]')\n",
    "\n",
    "ax_ang_vel.legend()\n",
    "\n",
    "def init_ang_vel():\n",
    "    ang_vel_cmd.set_data([], [])\n",
    "    ang_vel_odom.set_data([], [])\n",
    "    return (ang_vel_cmd, ang_vel_odom)\n",
    "\n",
    "def animate_ang_vel(i):\n",
    "    global current_time_ang, total_time_ang\n",
    "    ang_cmd_data.append(ang_cmd)\n",
    "    ang_odom_data.append(ang_odom)\n",
    "    total_time_ang.append(time.time() - current_time_ang)\n",
    "    ang_vel_cmd.set_data(total_time_ang, ang_cmd_data)\n",
    "    ang_vel_odom.set_data([total_time_ang], [ang_odom_data])\n",
    "    \n",
    "    if total_time_ang[len(total_time_ang) -1] > 9:\n",
    "        ax_ang_vel.axis([total_time_ang[len(total_time_ang) -1] -9 , total_time_ang[len(total_time_ang) -1] + 1, -1.2, 1.7])\n",
    "        total_time_ang.pop(0)\n",
    "        ang_cmd_data.pop(0)\n",
    "        ang_odom_data.pop(0)\n",
    "    return (ang_vel_cmd, ang_vel_odom)\n",
    "\n",
    "\n",
    "anim_ang_vel = animation.FuncAnimation(fig_ang_vel, animate_ang_vel, init_func=init_ang_vel, frames=100, interval=20, blit=True)"
   ]
  },
  {
   "cell_type": "markdown",
   "id": "ba94256e",
   "metadata": {},
   "source": [
    "### Bar plot: reached and canceled targets"
   ]
  },
  {
   "cell_type": "markdown",
   "id": "9e05aa04",
   "metadata": {},
   "source": [
    "With this plot you're going to visualize how many target positions have been reached by the robot within the simulation and how many targets have been canceled by the user.\n",
    "In addition, the method FuncAnimation is used: it makes an animation by repeatedly calling a function, that in this case is the animate_barplot, that updates the animation every time it is called."
   ]
  },
  {
   "cell_type": "code",
   "execution_count": 16,
   "id": "e9a76ccc",
   "metadata": {
    "ExecuteTime": {
     "end_time": "2023-02-05T21:52:44.282098Z",
     "start_time": "2023-02-05T21:52:44.161325Z"
    }
   },
   "outputs": [
    {
     "data": {
      "application/vnd.jupyter.widget-view+json": {
       "model_id": "4f301306fdbb4aabbc60b6a1584df72e",
       "version_major": 2,
       "version_minor": 0
      },
      "text/plain": [
       "Canvas(toolbar=Toolbar(toolitems=[('Home', 'Reset original view', 'home', 'home'), ('Back', 'Back to previous …"
      ]
     },
     "metadata": {},
     "output_type": "display_data"
    }
   ],
   "source": [
    "fig_barplot, ax_barplot = plt.subplots()\n",
    "\n",
    "ax_barplot.set_title('Number of reached and canceled target positions')\n",
    "ax_barplot.set(ylabel = 'Number of targets')\n",
    "\n",
    "targets = np.array(['Reached','Canceled'])\n",
    "barplot = ax_barplot.bar(targets, [0,0], width = 0.5, color = 'teal')\n",
    "\n",
    "def init_barplot():\n",
    "    ax_barplot.bar(targets, [0,0], width = 0.5, color = 'teal')\n",
    "    return (ax_barplot)\n",
    "             \n",
    "def animate_barplot(i):\n",
    "    global targets, num\n",
    "    ax_barplot.bar(targets, num, width = 0.5, color = 'teal')\n",
    "    return (ax_barplot)\n",
    "\n",
    "\n",
    "anim_bar = animation.FuncAnimation(fig_barplot, animate_barplot, init_func = init_barplot, frames=100, interval=10, blit=True)"
   ]
  },
  {
   "cell_type": "markdown",
   "id": "c54938c6",
   "metadata": {},
   "source": [
    "### Hist plot: required time to reach the targets"
   ]
  },
  {
   "cell_type": "markdown",
   "id": "771fcb3c",
   "metadata": {},
   "source": [
    "With this plot you're going to visualize the time required, in seconds, to reach each target within the simulation.\n",
    "In addition, the method FuncAnimation is used: it makes an animation by repeatedly calling a function, that in this case is the animate_histplot, that updates the animation every time it is called.\n",
    "NB: Sometimes it takes two goal to be achieved before the plot to appear. "
   ]
  },
  {
   "cell_type": "code",
   "execution_count": 17,
   "id": "32162085",
   "metadata": {
    "ExecuteTime": {
     "end_time": "2023-02-05T21:52:44.383011Z",
     "start_time": "2023-02-05T21:52:44.285651Z"
    }
   },
   "outputs": [
    {
     "data": {
      "application/vnd.jupyter.widget-view+json": {
       "model_id": "9b25ba41bc1141a09fe2d47f20bd7c27",
       "version_major": 2,
       "version_minor": 0
      },
      "text/plain": [
       "Canvas(toolbar=Toolbar(toolitems=[('Home', 'Reset original view', 'home', 'home'), ('Back', 'Back to previous …"
      ]
     },
     "metadata": {},
     "output_type": "display_data"
    }
   ],
   "source": [
    "fig_histplot, ax_histplot = plt.subplots()\n",
    "ax_histplot.set_title('Time needed to reach the target')\n",
    "ax_histplot.set(xlabel = 'Time [s]')\n",
    "\n",
    "def init_histplot():\n",
    "    ax_histplot.hist([], bins = 50, color = 'orange')\n",
    "    return (ax_histplot)\n",
    "    \n",
    "def animate_histplot(i):\n",
    "    global time_needed\n",
    "    ax_histplot.hist(time_needed, bins = 50, color = 'orange')\n",
    "    return (ax_histplot)\n",
    "\n",
    "\n",
    "anim_hist = animation.FuncAnimation(fig_histplot, animate_histplot, init_func = init_histplot, frames=100, interval=10, blit=True)"
   ]
  },
  {
   "cell_type": "markdown",
   "id": "2d2eb18c",
   "metadata": {},
   "source": [
    "### xy graph: robot's position and orientation"
   ]
  },
  {
   "cell_type": "markdown",
   "id": "2da0cfb4",
   "metadata": {},
   "source": [
    "With this graph you are able to visualize the trajectory that the robot is following in order to reach the target position in the simulation environment. So, you are going to see both the real-time position in the space and also the orientation of the robot. The orientation is highlighted by an arrow.  "
   ]
  },
  {
   "cell_type": "code",
   "execution_count": 18,
   "id": "856cb822",
   "metadata": {
    "ExecuteTime": {
     "end_time": "2023-02-05T21:52:44.521622Z",
     "start_time": "2023-02-05T21:52:44.387053Z"
    }
   },
   "outputs": [
    {
     "data": {
      "application/vnd.jupyter.widget-view+json": {
       "model_id": "598cefd02101445d98952404a9a6c2f7",
       "version_major": 2,
       "version_minor": 0
      },
      "text/plain": [
       "Canvas(toolbar=Toolbar(toolitems=[('Home', 'Reset original view', 'home', 'home'), ('Back', 'Back to previous …"
      ]
     },
     "metadata": {},
     "output_type": "display_data"
    }
   ],
   "source": [
    "fig_pos, ax_pos = plt.subplots()\n",
    "\n",
    "pos_plt, = ax_pos.plot([], [], 'orchid')\n",
    "\n",
    "ax_pos.set_title('Position and orientation of the robot')\n",
    "ax_pos.set(xlabel = 'x', ylabel = 'y', xlim = (-7,7) , ylim = (-7,7))\n",
    "\n",
    "def init_pos():\n",
    "    pos_plt.set_data([], [])\n",
    "    return (pos_plt, arrow)\n",
    "\n",
    "def animate_pos(i):\n",
    "    global x_pos_data, y_pos_data, yaw, x_orient_data, y_orient_data\n",
    "    pos_plt.set_data(x_pos_data, y_pos_data)\n",
    "    if len(x_pos_data) > 0:\n",
    "        x = x_pos_data[len(x_pos_data) - 1]\n",
    "        y = y_pos_data[len(y_pos_data) - 1]\n",
    "        \n",
    "        arrow.set_position((x,y))\n",
    "        x_orient_data = np.cos(yaw)\n",
    "        y_orient_data = np.sin(yaw)\n",
    "        arrow.xy = (x + arrow_mod*x_orient_data, y + arrow_mod*y_orient_data)\n",
    "        \n",
    "    return pos_plt, arrow\n",
    "\n",
    "arrow = ax_pos.annotate('', xy = (arrow_mod*np.cos(0), arrow_mod*np.sin(0)), xytext = (0,0), arrowprops = dict(facecolor = 'darkviolet', shrink = 0.05))\n",
    "\n",
    "anim_pos = animation.FuncAnimation(fig_pos, animate_pos, init_func = init_pos, frames = 100, interval = 20, blit = True)\n",
    "fig_pos.show()"
   ]
  }
 ],
 "metadata": {
  "kernelspec": {
   "display_name": "Python 3 (ipykernel)",
   "language": "python",
   "name": "python3"
  },
  "language_info": {
   "codemirror_mode": {
    "name": "ipython",
    "version": 3
   },
   "file_extension": ".py",
   "mimetype": "text/x-python",
   "name": "python",
   "nbconvert_exporter": "python",
   "pygments_lexer": "ipython3",
   "version": "3.8.5"
  }
 },
 "nbformat": 4,
 "nbformat_minor": 5
}

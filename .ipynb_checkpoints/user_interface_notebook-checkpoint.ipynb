{
 "cells": [
  {
   "cell_type": "markdown",
   "id": "8e139094",
   "metadata": {},
   "source": [
    "# Second assignment of Research Track II"
   ]
  },
  {
   "cell_type": "markdown",
   "id": "740b87eb",
   "metadata": {},
   "source": [
    "## Jupyter notebook of the node user_interface"
   ]
  },
  {
   "cell_type": "markdown",
   "id": "f6429d80",
   "metadata": {},
   "source": [
    "With this implementation you will be able control the behavior of the robot within the Gazebo environment. In addition, you will have much more functionalities to control the simulation thanks to the presence of widgets and the Matplotlib library. "
   ]
  },
  {
   "cell_type": "markdown",
   "id": "7dcd2834",
   "metadata": {},
   "source": [
    "In particular the new functionalities, implemented thanks to these tools, are now:\n",
    "- the ability to start/stop the robot, that is regulated with two buttons;\n",
    "- the ability of changing the velocities, both linear and angular, using two sliders;\n",
    "- the ability of directly teleoperate the movements of the robot in each direction (plus the stop), with 5 buttons."
   ]
  },
  {
   "cell_type": "markdown",
   "id": "c78192cb",
   "metadata": {},
   "source": [
    "Moreover, you have some information, concerning the simulation, that are graphically displayed, including:\n",
    "- a line plot that displays cmd_vel vs actual velocity (for both linear and angular velocities)\n",
    "- a bar plot that allows to see the number of reached and canceled target positions during the execution of the simulation\n",
    "- a hist plot that shows the time required to reach each target position\n",
    "- an xy graph that shows the robot's position and orientation during the execution of the simulation"
   ]
  },
  {
   "cell_type": "markdown",
   "id": "9f86e9cf",
   "metadata": {},
   "source": [
    "## How to run the code"
   ]
  },
  {
   "cell_type": "markdown",
   "id": "7d82a2ee",
   "metadata": {},
   "source": [
    "After cloning the repository in a ROS workspace, you'll need two different terminals."
   ]
  },
  {
   "cell_type": "markdown",
   "id": "ce4c2ede",
   "metadata": {},
   "source": [
    "In the first terminals you need to type the following instruction:\n",
    "- in your ROS workspace you need to build the package that you have just cloned using the command \n",
    "\n",
    "`catkin_make`\n",
    "- then you need to run the\n",
    "\n",
    "`roscore &`\n",
    "- finally, you need to go inside the package that you have cloned and starts the simulation by typing\n",
    "\n",
    "`roslaunch rt2_assignment1 notebook.launch`"
   ]
  },
  {
   "cell_type": "markdown",
   "id": "4b06ac31",
   "metadata": {},
   "source": [
    "In the second terminal you need to start the Jupyter notebook by typing\n",
    "\n",
    "`jupyter notebook --allow-root --ip 0.0.0.0`\n",
    "\n",
    "\n",
    "Then open the file **user_interface_notebook.ipynb** and run all the cells (the ones that you need) to be able to directly interact with the Gazebo simulation environment.\n",
    "\n",
    "\n",
    "Advice: if you have not already done so, I recommend that you activate the nbextention *execute time*, to make sure that a cell has actually been run. "
   ]
  },
  {
   "cell_type": "markdown",
   "id": "1d17a32f",
   "metadata": {},
   "source": [
    "## Headers and initialization of the node"
   ]
  },
  {
   "cell_type": "markdown",
   "id": "8a24990c",
   "metadata": {},
   "source": [
    "This notebook, as it happens for the user_interface node, communicates with the other three nodes that are the:\n",
    "- go_to_point; \n",
    "- position_service;\n",
    "- state_machine."
   ]
  },
  {
   "cell_type": "markdown",
   "id": "daa153ee",
   "metadata": {},
   "source": [
    "Here are listed the headers that are needed for our purpose:"
   ]
  },
  {
   "cell_type": "code",
   "execution_count": 1,
   "id": "58cdeed9",
   "metadata": {
    "ExecuteTime": {
     "end_time": "2022-08-23T09:55:35.840194Z",
     "start_time": "2022-08-23T09:55:34.794097Z"
    }
   },
   "outputs": [],
   "source": [
    "import rospy\n",
    "import time\n",
    "import math\n",
    "from rt2_assignment1.srv import Command\n",
    "from nav_msgs.msg import Odometry\n",
    "import actionlib\n",
    "import actionlib.msg\n",
    "import rt2_assignment1.msg\n",
    "from rt2_assignment1.msg import TargetActionResult\n",
    "\n",
    "import matplotlib.pyplot as plt\n",
    "import numpy as np\n",
    "import jupyros as jr\n",
    "import ipywidgets as widgets\n",
    "from geometry_msgs.msg import Twist\n",
    "from matplotlib import animation, rc\n",
    "from matplotlib.animation import FuncAnimation\n",
    "from ipywidgets import Button, Layout, ButtonStyle, GridBox, VBox, HBox, FloatSlider\n",
    "from IPython.display import display\n",
    "%matplotlib widget"
   ]
  },
  {
   "cell_type": "markdown",
   "id": "cc1ee701",
   "metadata": {},
   "source": [
    "Now we initialize the node:"
   ]
  },
  {
   "cell_type": "code",
   "execution_count": 3,
   "id": "3cd605b1",
   "metadata": {
    "ExecuteTime": {
     "end_time": "2022-08-23T07:50:22.454574Z",
     "start_time": "2022-08-23T07:50:22.445167Z"
    }
   },
   "outputs": [],
   "source": [
    "# initialization of the node\n",
    "rospy.init_node('user_interface')\n",
    "ui_client = rospy.ServiceProxy('/user_interface', Command)\n",
    "    \n",
    "# action client to cancel the goal \n",
    "act_c = actionlib.SimpleActionClient(\"go_to_point\",rt2_assignment1.msg.TargetAction)\n",
    "act_c.wait_for_server()\n",
    "\n",
    "pub = rospy.Publisher('/cmd_vel', Twist, queue_size=1)"
   ]
  },
  {
   "cell_type": "markdown",
   "id": "2dcbc3d1",
   "metadata": {},
   "source": [
    "### Starting/stopping the robot using buttons"
   ]
  },
  {
   "cell_type": "markdown",
   "id": "e7974e93",
   "metadata": {},
   "source": [
    "With this implementation, you will have two different buttons, that allow to interact directly with the simulation, making the robot starts and stops while the it is moving to reach its random position target within the simulation environment.\n",
    "Each of the button has a callback function associated, so anytime one of the button is pressed by the user, the corresponding callback function will be executed."
   ]
  },
  {
   "cell_type": "code",
   "execution_count": 4,
   "id": "8185c5b6",
   "metadata": {
    "ExecuteTime": {
     "end_time": "2022-08-23T07:51:13.990171Z",
     "start_time": "2022-08-23T07:51:13.964831Z"
    }
   },
   "outputs": [],
   "source": [
    "start_button = widgets.Button(description='START', layout=widgets.Layout(widht='auto',grid_area='b1'),\n",
    "                style=widgets.ButtonStyle(button_color='limegreen')) \n",
    "stop_button = widgets.Button(description='STOP', layout=widgets.Layout(widht='auto',grid_area='b2'),\n",
    "                style=widgets.ButtonStyle(button_color='firebrick')) "
   ]
  },
  {
   "cell_type": "code",
   "execution_count": 18,
   "id": "33783db3",
   "metadata": {
    "ExecuteTime": {
     "end_time": "2022-08-23T07:56:34.233247Z",
     "start_time": "2022-08-23T07:56:34.213996Z"
    }
   },
   "outputs": [
    {
     "data": {
      "application/vnd.jupyter.widget-view+json": {
       "model_id": "506d22522c9e49bca36a9639f540537f",
       "version_major": 2,
       "version_minor": 0
      },
      "text/plain": [
       "Output()"
      ]
     },
     "metadata": {},
     "output_type": "display_data"
    }
   ],
   "source": [
    "output = widgets.Output()\n",
    "\n",
    "start_time = 0\n",
    "stop_time = 0\n",
    "\n",
    "def start_on(b):\n",
    "    global start_time\n",
    "    # start the robot behavior\n",
    "    ui_client(\"start\")\n",
    "    start_time=time.time()\n",
    "        \n",
    "    with output:\n",
    "        print(\"The robot has been started\")\n",
    "\n",
    "\n",
    "def stop_on(b):\n",
    "    global stop_time\n",
    "    # stop the robot behavior\n",
    "    act_c.cancel_all_goals()\n",
    "    ui_client(\"stop\")\n",
    "    stop_time=time.time()\n",
    "        \n",
    "    with output:\n",
    "        print(\"The robot has been stopped\")\n",
    "    \n",
    "    \n",
    "start_button.on_click(start_on) # on_click method for the start button\n",
    "stop_button.on_click(stop_on) # on_click method for the stop button\n",
    "display(output) # display the message"
   ]
  },
  {
   "cell_type": "code",
   "execution_count": 6,
   "id": "d349200a",
   "metadata": {
    "ExecuteTime": {
     "end_time": "2022-08-23T07:51:18.638266Z",
     "start_time": "2022-08-23T07:51:18.613151Z"
    }
   },
   "outputs": [
    {
     "data": {
      "application/vnd.jupyter.widget-view+json": {
       "model_id": "fd3729287c7c4cf7ae00e4f8d6af32d3",
       "version_major": 2,
       "version_minor": 0
      },
      "text/plain": [
       "GridBox(children=(Button(description='START', layout=Layout(grid_area='b1'), style=ButtonStyle(button_color='l…"
      ]
     },
     "metadata": {},
     "output_type": "display_data"
    }
   ],
   "source": [
    "# arrange the buttons neatly\n",
    "widgets.GridBox(children=[start_button,stop_button],\n",
    "                layout=widgets.Layout(width='60%',grid_template_rows='auto auto',\n",
    "                grid_template_columns='30% 20% 30%',\n",
    "                grid_template_areas=''' \"b1 . b2\" '''))"
   ]
  },
  {
   "cell_type": "markdown",
   "id": "6589a9c8",
   "metadata": {},
   "source": [
    "### Changing the linear and the angular velocity using sliders"
   ]
  },
  {
   "cell_type": "markdown",
   "id": "eb81d17a",
   "metadata": {},
   "source": [
    "With this implementation you will have two different sliders, that allow to change the linear and the angular velocity while the simulation is running. \n",
    "In particular, the user can select velocities between -1 and 3 m/s.  "
   ]
  },
  {
   "cell_type": "code",
   "execution_count": 7,
   "id": "10f49fe9",
   "metadata": {
    "ExecuteTime": {
     "end_time": "2022-08-23T07:51:23.270805Z",
     "start_time": "2022-08-23T07:51:23.243277Z"
    }
   },
   "outputs": [],
   "source": [
    "lin_vel_init = 0.5\n",
    "lin_vel_slider = widgets.FloatSlider(description='Linear velocity', value=lin_vel_init, min=-1.0, max=1.5)\n",
    "lin_vel_slider.style.handle_color = 'blue'\n",
    "\n",
    "ang_vel_init = 0.5\n",
    "ang_vel_slider = widgets.FloatSlider(description='Angular velocity', value=ang_vel_init, min=-1.0, max=1.5)\n",
    "ang_vel_slider.style.handle_color = 'blue'"
   ]
  },
  {
   "cell_type": "code",
   "execution_count": 8,
   "id": "0ce2a5ce",
   "metadata": {
    "ExecuteTime": {
     "end_time": "2022-08-23T07:51:26.656346Z",
     "start_time": "2022-08-23T07:51:26.647796Z"
    }
   },
   "outputs": [],
   "source": [
    "twist_msg = Twist()\n",
    "\n",
    "def lin_vel_change(change): \n",
    "    global twist_msg\n",
    "    twist_msg.linear.x = change['new']\n",
    "    pub.publish(twist_msg)\n",
    "    \n",
    "def ang_vel_change(change):\n",
    "    global twist_msg\n",
    "    twist_msg.angular.z = change['new']\n",
    "    pub.publish(twist_msg)\n",
    "    \n",
    "lin_vel_slider.observe(lin_vel_change, names='value')\n",
    "ang_vel_slider.observe(ang_vel_change, names='value')"
   ]
  },
  {
   "cell_type": "code",
   "execution_count": 9,
   "id": "011344a8",
   "metadata": {
    "ExecuteTime": {
     "end_time": "2022-08-23T07:51:39.678277Z",
     "start_time": "2022-08-23T07:51:39.647551Z"
    }
   },
   "outputs": [
    {
     "data": {
      "application/vnd.jupyter.widget-view+json": {
       "model_id": "f946dc371dd543d9bda42418d3e05b0a",
       "version_major": 2,
       "version_minor": 0
      },
      "text/plain": [
       "HBox(children=(VBox(children=(FloatSlider(value=0.5, description='Linear velocity', max=1.5, min=-1.0, style=S…"
      ]
     },
     "metadata": {},
     "output_type": "display_data"
    }
   ],
   "source": [
    "widgets.HBox([widgets.VBox([lin_vel_slider, ang_vel_slider])])"
   ]
  },
  {
   "cell_type": "markdown",
   "id": "6bd3fe1b",
   "metadata": {},
   "source": [
    "### Teleoperate the robot using buttons"
   ]
  },
  {
   "cell_type": "markdown",
   "id": "6a745e83",
   "metadata": {},
   "source": [
    "With this implementation you will have 5 different buttons. \n",
    "Four of them are use to directly teleoperate the robot within the simulation and are the following ones:\n",
    "- ↑ to go forward\n",
    "- ↓ to go backward\n",
    "- ← to turn left\n",
    "- → to turn right\n",
    "The other button is:\n",
    "- STOP to stop the robot"
   ]
  },
  {
   "cell_type": "code",
   "execution_count": 10,
   "id": "217ba934",
   "metadata": {
    "ExecuteTime": {
     "end_time": "2022-08-23T07:51:45.224309Z",
     "start_time": "2022-08-23T07:51:45.152633Z"
    }
   },
   "outputs": [],
   "source": [
    "go_forward_button = widgets.Button(description='\\u2191',layout=Layout(width='auto', grid_area='b1'),\n",
    "style=ButtonStyle(button_color='lavender'))\n",
    "go_backward_button = widgets.Button(description='\\u2193',layout=Layout(width='auto', grid_area='b2'),\n",
    "style=ButtonStyle(button_color='lavender'))\n",
    "turn_left_button = widgets.Button(description='\\u2190',layout=Layout(width='auto', grid_area='b3'),\n",
    "style=ButtonStyle(button_color='lavender'))\n",
    "turn_right_button = widgets.Button(description='\\u2192',layout=Layout(width='auto', grid_area='b4'),\n",
    "style=ButtonStyle(button_color='lavender'))\n",
    "stop_button = widgets.Button(description='STOP',layout=Layout(width='auto', align=\"center\", grid_area='b5'),\n",
    "style=ButtonStyle(button_color='firebrick'))"
   ]
  },
  {
   "cell_type": "code",
   "execution_count": 11,
   "id": "483cb192",
   "metadata": {
    "ExecuteTime": {
     "end_time": "2022-08-23T07:51:48.024028Z",
     "start_time": "2022-08-23T07:51:48.011652Z"
    }
   },
   "outputs": [],
   "source": [
    "twist_msg = Twist()\n",
    "\n",
    "def go_forward(click):\n",
    "    global twist_msg\n",
    "    twist_msg.linear.x = 1.0\n",
    "    twist_msg.angular.z = 0.0\n",
    "    pub.publish(twist_msg)\n",
    "    \n",
    "def go_backward(click):\n",
    "    global twist_msg\n",
    "    twist_msg.linear.x = - 1.0\n",
    "    twist_msg.angular.z = 0.0\n",
    "    pub.publish(twist_msg)\n",
    "    \n",
    "def turn_left(click):\n",
    "    global twist_msg\n",
    "    twist_msg.linear.x = 0.0\n",
    "    twist_msg.angular.z = -1.0\n",
    "    pub.publish(twist_msg)\n",
    "    \n",
    "def turn_right(click):\n",
    "    global twist_msg\n",
    "    twist_msg.linear.x = 0.0\n",
    "    twist_msg.angular.z = 1.0\n",
    "    pub.publish(twist_msg)\n",
    "    \n",
    "def stop_behavior(behavior):\n",
    "    act_c.cancel_all_goals()\n",
    "    ui_client(\"stop\")\n",
    "    global twist_msg\n",
    "    twist_msg.linear.x = 0.0\n",
    "    twist_msg.angular.z = 0.0\n",
    "    pub.publish(twist_msg)\n",
    "    \n",
    "go_forward_button.on_click(go_forward)\n",
    "go_backward_button.on_click(go_backward)\n",
    "turn_left_button.on_click(turn_left)\n",
    "turn_right_button.on_click(turn_right)\n",
    "stop_button.on_click(stop_behavior)"
   ]
  },
  {
   "cell_type": "code",
   "execution_count": 12,
   "id": "710a845b",
   "metadata": {
    "ExecuteTime": {
     "end_time": "2022-08-23T07:51:51.584394Z",
     "start_time": "2022-08-23T07:51:51.560016Z"
    }
   },
   "outputs": [
    {
     "data": {
      "application/vnd.jupyter.widget-view+json": {
       "model_id": "06f0761a01f4497989a796e613b495bb",
       "version_major": 2,
       "version_minor": 0
      },
      "text/plain": [
       "GridBox(children=(Button(description='↑', layout=Layout(grid_area='b1', width='auto'), style=ButtonStyle(butto…"
      ]
     },
     "metadata": {},
     "output_type": "display_data"
    }
   ],
   "source": [
    "widgets.GridBox(children=[go_forward_button, go_backward_button, turn_left_button, turn_right_button ,stop_button],\n",
    "                layout=widgets.Layout(width='75%',grid_template_rows='auto auto auto',\n",
    "                grid_template_columns='15% 15% 15% 20% 35%',\n",
    "                grid_template_areas='''\n",
    "                \". b1 . . .\"\n",
    "                \"b3 b2 b4 . .\"\n",
    "                \" . . . . b5\"\n",
    "                ''')\n",
    "               )"
   ]
  },
  {
   "cell_type": "markdown",
   "id": "f530e332",
   "metadata": {},
   "source": [
    "## Displaying graphical information"
   ]
  },
  {
   "cell_type": "markdown",
   "id": "cbdfd898",
   "metadata": {},
   "source": [
    "### Line plot: cmd_vel vs actual velocity"
   ]
  },
  {
   "cell_type": "markdown",
   "id": "3d3f2937",
   "metadata": {},
   "source": [
    "The following plots show the comparison between the requested velocity and the actual velocity, respectively for the linear and the angular velocities."
   ]
  },
  {
   "cell_type": "code",
   "execution_count": 13,
   "id": "68decc6e",
   "metadata": {
    "ExecuteTime": {
     "end_time": "2022-08-23T07:51:56.238618Z",
     "start_time": "2022-08-23T07:51:56.112328Z"
    }
   },
   "outputs": [
    {
     "data": {
      "application/vnd.jupyter.widget-view+json": {
       "model_id": "b33d28505f434799bac3b86a551864b5",
       "version_major": 2,
       "version_minor": 0
      },
      "text/plain": [
       "Canvas(toolbar=Toolbar(toolitems=[('Home', 'Reset original view', 'home', 'home'), ('Back', 'Back to previous …"
      ]
     },
     "metadata": {},
     "output_type": "display_data"
    }
   ],
   "source": [
    "fig_vel, (ax_lin_vel, ax_ang_vel) = plt.subplots(1,2)\n",
    "\n",
    "lin_vel_cmd, = ax_lin_vel.plot([], [], color='magenta', label = 'lin_vel_cmd')\n",
    "lin_vel_odom, = ax_lin_vel.plot([], [], color='navy', label = 'lin_vel_odom')\n",
    "ang_vel_cmd, = ax_ang_vel.plot([], [], color='mediumturquoise', label = 'ang_vel_cmd')\n",
    "ang_vel_odom, = ax_ang_vel.plot([], [], color='olivedrab', label = 'ang_vel_odom')\n",
    "\n",
    "lin_cmd_data = []\n",
    "lin_odom_data = []\n",
    "ang_cmd_data = []\n",
    "ang_odom_data = []\n",
    "\n",
    "ax_lin_vel.set_title('Linear velocity: cmd_vel vs odom')\n",
    "ax_lin_vel.set(xlabel = 'Time [s]', ylabel = 'Linear velocity [m/s]')\n",
    "ax_ang_vel.set_title('Angular velocity: cmd_vel vs odom')\n",
    "ax_ang_vel.set(xlabel = 'Time [s]', ylabel = 'Angular velocity [rad/s]')\n",
    "\n",
    "ax_lin_vel.legend()\n",
    "ax_ang_vel.legend()\n",
    "\n",
    "t = time.time()\n",
    "time_vel = list(range(0, 10))\n",
    "\n",
    "def init_vel():\n",
    "    lin_vel_cmd.set_data([], [])\n",
    "    lin_vel_odom.set_data([], [])\n",
    "    ang_vel_cmd.set_data([], [])\n",
    "    ang_vel_odom.set_data([], [])\n",
    "    return (lin_vel_cmd, lin_vel_odom, ang_vel_cmd, ang_vel_odom)\n",
    "\n",
    "def cmd_vel_callback(msg):\n",
    "    if len(lin_cmd_data) > 20:\n",
    "        lin_cmd_data.pop(0)\n",
    "    if len(ang_cmd_data) > 20:\n",
    "        ang_cmd_data.pop(0)\n",
    "    lin_cmd_data.append(msg.linear.x)\n",
    "    ang_cmd_data.append(msg.angular.z)\n",
    "    \n",
    "def odom_vel_callback(msg):\n",
    "    if len(time_vel) > 10:\n",
    "        time_vel.pop(0)\n",
    "    if len(lin_odom_data) > 20:\n",
    "        lin_odom_data.pop(0)\n",
    "    if len(ang_odom_data) > 20:\n",
    "        ang_odom_data.pop(0)\n",
    "    time_vel.append(time.time()-t)\n",
    "    lin_odom_data.append(msg.twist.twist.linear.x)\n",
    "    ang_odom_data.append(msg.twist.twist.angular.z)\n",
    "    \n",
    "def animate_vel(i):\n",
    "    lin_vel_cmd.set_data(time_vel, lin_cmd_data)\n",
    "    lin_vel_odom.set_data(time_vel, lin_odom_data)\n",
    "    ang_vel_cmd.set_data(time_vel, ang_cmd_data)\n",
    "    ang_vel_odom.set_data(time_vel, ang_odom_data)\n",
    "    return (lin_vel_cmd, lin_vel_odom, ang_vel_cmd, ang_vel_odom)\n",
    "\n",
    "jr.subscribe('/cmd_vel', Twist, cmd_vel_callback)\n",
    "jr.subscribe('/odom', Odometry, odom_vel_callback)\n",
    "\n",
    "anim_vel = animation.FuncAnimation(fig_vel, animate_vel, init_func=init_vel, frames=100, interval=20, blit=True)"
   ]
  },
  {
   "cell_type": "markdown",
   "id": "c6a167c2",
   "metadata": {},
   "source": [
    "### Bar plot: reached and canceled targets"
   ]
  },
  {
   "cell_type": "markdown",
   "id": "495aa74a",
   "metadata": {},
   "source": [
    "With this plot you're going to visualize how many target positions have been reached by the robot within the simulation and how many targets have been canceled by the user.\n",
    "In addition, the method FuncAnimation is used: it makes an animation by repeatedly calling a function, that in this case is the animate_barplot(animation), that updates the animation every time it is called."
   ]
  },
  {
   "cell_type": "code",
   "execution_count": 14,
   "id": "97b080fa",
   "metadata": {
    "ExecuteTime": {
     "end_time": "2022-08-23T07:52:09.927356Z",
     "start_time": "2022-08-23T07:52:09.889146Z"
    }
   },
   "outputs": [
    {
     "data": {
      "application/vnd.jupyter.widget-view+json": {
       "model_id": "bc761087e00c47aeae4fc950ea4070e2",
       "version_major": 2,
       "version_minor": 0
      },
      "text/plain": [
       "Canvas(toolbar=Toolbar(toolitems=[('Home', 'Reset original view', 'home', 'home'), ('Back', 'Back to previous …"
      ]
     },
     "metadata": {},
     "output_type": "display_data"
    }
   ],
   "source": [
    "fig_barplot, ax_barplot = plt.subplots()\n",
    "\n",
    "ax_barplot.set_title('Number of reached and canceled target positions')\n",
    "ax_barplot.set(ylabel = 'Number of targets', ylim = (0,30))\n",
    "\n",
    "targets = np.array(['Reached','Canceled'])\n",
    "barplot = ax_barplot.bar(targets, [0,0], width = 0.5, color = 'teal')\n",
    "\n",
    "reached = 0\n",
    "canceled = 0 \n",
    "num = [0,0]\n",
    "\n",
    "def init_barplot():\n",
    "    ax_barplot.bar(targets, [0,0], width = 0.5, color = 'teal')\n",
    "    return (ax_barplot)\n",
    "\n",
    "def target_callback(msg):\n",
    "    global reached, canceled\n",
    "    if(msg.data == True):\n",
    "        reached += 1\n",
    "    else:\n",
    "        canceled += 1\n",
    "    num = (reached, canceled)\n",
    "             \n",
    "def animate_barplot(i):\n",
    "    ax_barplot.bar(targets, num, width = 0.5, color = 'teal')\n",
    "    return (ax_barplot)\n",
    "\n",
    "jr.subscribe('/go_to_point/result', TargetActionResult, target_callback)\n",
    "\n",
    "anim_bar = animation.FuncAnimation(fig_barplot, animate_barplot, init_func = init_barplot, frames=100, interval=10, blit=True)"
   ]
  },
  {
   "cell_type": "markdown",
   "id": "2ece41e8",
   "metadata": {},
   "source": [
    "### Hist plot: required time to reach the targets"
   ]
  },
  {
   "cell_type": "markdown",
   "id": "e67bfe3e",
   "metadata": {},
   "source": [
    "With this plot you're going to visualize the time required, in seconds, to reach each target within the simulation.\n",
    "In addition, the method FuncAnimation is used: it makes an animation by repeatedly calling a function, that in this case is the animate_histplot, that updates the animation every time it is called."
   ]
  },
  {
   "cell_type": "code",
   "execution_count": 15,
   "id": "8edbb921",
   "metadata": {
    "ExecuteTime": {
     "end_time": "2022-08-23T07:52:18.309289Z",
     "start_time": "2022-08-23T07:52:18.215278Z"
    },
    "scrolled": true
   },
   "outputs": [
    {
     "data": {
      "application/vnd.jupyter.widget-view+json": {
       "model_id": "54eaa1a6fd5c40b49488e69fe860bd5a",
       "version_major": 2,
       "version_minor": 0
      },
      "text/plain": [
       "Canvas(toolbar=Toolbar(toolitems=[('Home', 'Reset original view', 'home', 'home'), ('Back', 'Back to previous …"
      ]
     },
     "metadata": {},
     "output_type": "display_data"
    }
   ],
   "source": [
    "fig_histplot, ax_histplot = plt.subplots()\n",
    "\n",
    "ax_histplot.set_title('Time needed to reach the target')\n",
    "ax_histplot.set(xlabel = 'Time [s]', ylabel = 'Target', xlim = (0,60), ylim = (0,10))\n",
    "\n",
    "histplot = ax_histplot.hist([], bins = 100, color = 'orange')\n",
    "\n",
    "t = time.time()\n",
    "time_required = [] \n",
    "\n",
    "def init_histplot():\n",
    "    ax_histplot.hist([], bins = 100, color = 'orange')\n",
    "    return (ax_histplot)\n",
    "\n",
    "#def time_callback(msg):\n",
    "#    global t, time_required\n",
    "#    time_required.append(time.time() - t)\n",
    "    \n",
    "def animate_histplot(i):\n",
    "    ax_histplot.hist([], bins = 100, color = 'orange')\n",
    "    return (ax_histplot)\n",
    "\n",
    "\n",
    "anim_hist = animation.FuncAnimation(fig_histplot, animate_histplot, init_func = init_histplot, frames=100, interval=10, blit=True)"
   ]
  },
  {
   "cell_type": "markdown",
   "id": "d1719447",
   "metadata": {},
   "source": [
    "### xy graph: robot's position and orientation"
   ]
  },
  {
   "cell_type": "markdown",
   "id": "5c32aa01",
   "metadata": {},
   "source": [
    "With this graph you are able to visualize the trajectory that the robot is following in order to reach the target position in the simulation environment. So, you are going to see both the real-time position in the space and also the orientation of the robot. The orientation is highlighted by an arrow.  "
   ]
  },
  {
   "cell_type": "code",
   "execution_count": 16,
   "id": "c0a4b2ea",
   "metadata": {
    "ExecuteTime": {
     "end_time": "2022-08-23T07:52:23.949045Z",
     "start_time": "2022-08-23T07:52:23.891479Z"
    }
   },
   "outputs": [
    {
     "data": {
      "application/vnd.jupyter.widget-view+json": {
       "model_id": "d29763741aa84755bb47a5d0e1c3e4b5",
       "version_major": 2,
       "version_minor": 0
      },
      "text/plain": [
       "Canvas(toolbar=Toolbar(toolitems=[('Home', 'Reset original view', 'home', 'home'), ('Back', 'Back to previous …"
      ]
     },
     "metadata": {},
     "output_type": "display_data"
    },
    {
     "name": "stderr",
     "output_type": "stream",
     "text": [
      "Removing previous callback, only one redirection possible right now\n"
     ]
    }
   ],
   "source": [
    "fig_pos, ax_pos = plt.subplots()\n",
    "\n",
    "pos_plt, = ax_pos.plot([], [], 'orchid')\n",
    "arrow_plt, = ax_pos.plot([], [], 'darkviolet', linewidth = 3)\n",
    "\n",
    "ax_pos.set_title('Position and orientation of the robot')\n",
    "ax_pos.set(xlabel = 'x', ylabel = 'y', xlim = (-7,7) , ylim = (-7,7))\n",
    "\n",
    "arrow_mod = 0.8\n",
    "x_pos_data = []\n",
    "y_pos_data = []\n",
    "\n",
    "def init_pos():\n",
    "    pos_plt.set_data([], [])\n",
    "    arrow_plt.set_data([], [])\n",
    "    return (pos_plt, arrow_plt)\n",
    "\n",
    "def odom_callback_pos(msg):\n",
    "    x_pos_data.append(msg.pose.pose.position.x)\n",
    "    y_pos_data.append(msg.pose.pose.position.y)\n",
    "    quaternion = (msg.pose.pose.orientation.x,\n",
    "                  msg.pose.pose.orientation.y,\n",
    "                  msg.pose.pose.orientation.z,\n",
    "                  msg.pose.pose.orientation.w)\n",
    "    euler = transformations.euler_from_quaternion(quaternion)\n",
    "    angle = euler[2]\n",
    "\n",
    "def animate_pos(i):\n",
    "    pos_plt.set_data(x_pos_data, y_pos_data)\n",
    "    x_orient_data = x_pos_data[len(x_pos_data)-1] + arrow_mod*math.cos(angle)\n",
    "    y_orient_data = y_pos_data[len(y_pos_data)-1] + arrow_mod*math.sin(angle)\n",
    "    arrow_plt.set_data(x_orient_data, y_orient_data) \n",
    "    return (pos_plt, arrow_plt)\n",
    "\n",
    "jr.subscribe('/odom', Odometry, odom_callback_pos)\n",
    "\n",
    "anim_pos = animation.FuncAnimation(fig_pos, animate_pos, init_func = init_pos, frames = 100, interval = 20, blit = True)"
   ]
  },
  {
   "cell_type": "code",
   "execution_count": null,
   "id": "1a3ca304",
   "metadata": {},
   "outputs": [],
   "source": []
  }
 ],
 "metadata": {
  "kernelspec": {
   "display_name": "Python 3 (ipykernel)",
   "language": "python",
   "name": "python3"
  },
  "language_info": {
   "codemirror_mode": {
    "name": "ipython",
    "version": 3
   },
   "file_extension": ".py",
   "mimetype": "text/x-python",
   "name": "python",
   "nbconvert_exporter": "python",
   "pygments_lexer": "ipython3",
   "version": "3.8.5"
  }
 },
 "nbformat": 4,
 "nbformat_minor": 5
}
